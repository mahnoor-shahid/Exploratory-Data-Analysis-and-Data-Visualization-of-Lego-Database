{
 "cells": [
  {
   "cell_type": "markdown",
   "metadata": {},
   "source": [
    "# Exploratory Data Analysis and Data Visualization of Lego Database"
   ]
  },
  {
   "cell_type": "markdown",
   "metadata": {},
   "source": [
    "## Objective of this Notebook\n",
    "\n",
    "This notebook aims to explore, investigate for the facts and perform data analysis techniques on the provided dataset of Legos. Also, visualize data to inquire for more facts and inspect relationships between the datasets. "
   ]
  },
  {
   "cell_type": "markdown",
   "metadata": {},
   "source": [
    "#### Importing Data\n",
    "- Importing Data with Pandas\n",
    "\n",
    "#### Required Packages for Data Analysis\n",
    "- NumPy\n",
    "- Pandas\n",
    "\n",
    "#### Data Visualization \n",
    "- Matplotlib\n",
    "- Seaborn"
   ]
  },
  {
   "cell_type": "markdown",
   "metadata": {},
   "source": [
    "## So, what exactly are Legos?\n",
    "As explained by Wikipedia:\n",
    ">Lego (/ˈlɛɡoʊ/ LEG-oh, Danish: [ˈle̝ːko] stylised as LEGO) is a line of plastic construction toys that are manufactured by The Lego Group, a privately held company based in Billund, Denmark. The company's flagship product, Lego, consists of variously colored interlocking plastic bricks accompanying an array of gears, figurines called minifigures, and various other parts. Lego pieces can be assembled and connected in many ways to construct objects, including vehicles, buildings, and working robots. Anything constructed can be taken apart again, and the pieces reused to make new things.\n",
    "\n",
    "<img src=\"images/lego-bricks.jpeg\" alt=\"lego\">\n",
    "\n",
    "That's not possible that you haven't seen these little figures made up of Lego Bricks in your real life. Legos are currently very trending in entertainment, media, movies and games. They are very popular and many theme parks and retail stores all over the world."
   ]
  },
  {
   "cell_type": "markdown",
   "metadata": {},
   "source": [
    "## Let's start with the Lego Database\n",
    "\n",
    "A comprehensive database of lego blocks is provided by Rebrickable. The data is available as csv files and the schema is shown below.\n",
    "<img src=\"https://storage.googleapis.com/kagglesdsdata/datasets%2F1599%2F2846%2Fdownloads_schema.png?GoogleAccessId=databundle-worker-v2@kaggle-161607.iam.gserviceaccount.com&Expires=1592688871&Signature=GxsFD0xJMmH5FPkPR49fItBIXQ%2Bi1lnczK0lhI087kkDx11CswjxFtJrDf3y3fCxK%2B0Z%2BuMcJ5XwzCYTzHin4E6OlykR3l6LUuEeftKqvBYoPqvXVZt7tCtDVWRNs4r0n7ie3GqZcN3gS1RvLtNJDhB19AZ%2BWb%2F7T9j89BKz1pK5vaiZ1ErsGYDv6n%2FPF8W%2FbSrsmfe6QaYQDJ%2FOAmbLchDIPW831V2zkDpziiuhKOW0xt30A3Kk8agbeHH3uLst2Ni3GO%2FiDIDndoD1zLZ6bMvfD5Cx2mF%2FuJQiToYB2GZZTppLg4pPukJsI%2FZzkX35tzyofLawPZb4HQxK8tKwLw%3D%3D" alt=\"lego\">\n",
    "\n",
    "We can see clearly the relationship between these tables from the above **Schematic Diagram**. We have been provided 8 csv files containing data of every table shown in the figure. We will explore them one by one. "
   ]
  },
  {
   "cell_type": "markdown",
   "metadata": {},
   "source": [
    "## Importing all the necessary packages to start data analysis\n",
    "\n"
   ]
  },
  {
   "cell_type": "code",
   "execution_count": 1,
   "metadata": {},
   "outputs": [],
   "source": [
    "# for performing mathematical operations\n",
    "import numpy as np \n",
    "\n",
    "# for data processing, CSV file I/O \n",
    "import pandas as pd \n",
    "\n",
    "# visualizing inventory_parts that has most colors using matplotlib\n",
    "import matplotlib\n",
    "import matplotlib.pyplot as plt\n",
    "import seaborn as sns"
   ]
  },
  {
   "cell_type": "markdown",
   "metadata": {},
   "source": [
    "## Data Preparation\n",
    "\n",
    "In this section, required dataset is imported, explored and cleaned to make it available in the right format for data visualization. \n",
    "\n",
    "Data Analysis techniques used in this section includes: \n",
    "- Importing data set using Pandas \n",
    "- Exploring data to find features and target \n",
    "- Handling missing or corrupted values in the data\n",
    "\n",
    "*You can skip this section if you want to play with data yourself.*"
   ]
  },
  {
   "cell_type": "markdown",
   "metadata": {},
   "source": [
    "## Importing Datasets using Pandas Library"
   ]
  },
  {
   "cell_type": "code",
   "execution_count": 2,
   "metadata": {
    "_cell_guid": "621125e7-b216-41ad-ab85-689a882aff89",
    "_uuid": "6998635ba361887c513315ab4d09eb659ae5f8a8"
   },
   "outputs": [],
   "source": [
    "# read the data from the csv files into a dataframe\n",
    "themes = pd.read_csv('datasets/themes.csv', index_col=0)\n",
    "sets = pd.read_csv('datasets/sets.csv', index_col=0)\n",
    "parts = pd.read_csv('datasets/parts.csv', index_col=0)\n",
    "part_categories = pd.read_csv('datasets/part_categories.csv', index_col=0)\n",
    "inventories = pd.read_csv('datasets/inventories.csv', index_col=0)\n",
    "inventory_sets = pd.read_csv('datasets/inventory_sets.csv', index_col=0)\n",
    "inventory_parts = pd.read_csv('datasets/inventory_parts.csv', index_col=0)\n",
    "colors = pd.read_csv('datasets/colors.csv', index_col=0)"
   ]
  },
  {
   "cell_type": "markdown",
   "metadata": {
    "_cell_guid": "95a69e06-07e2-4dc5-a1db-60d61955d876",
    "_uuid": "0dac8ae5159670925412662863a86f5ba5bade11"
   },
   "source": [
    "## Exploring Colors, Inventories, Parts and Part Categories\n",
    "We have loaded our required datasets, now we will start with colors, parts and inventories first. Then we will move to inventory_parts. As we can see that colors, parts and inventories combines together to form inventory parts from the Schematic Diagram above.\n",
    "\n",
    "#### According to the above database diagram following are the relationships mapping: \n",
    "- Id (Colors) -> Color_Id (Inventory_Parts)\n",
    "- Id (Inventories) -> Inventory_Id (Inventory_Parts)\n",
    "- Part_Num (Parts) -> Part_Num (Inventory_Parts)\n",
    "- Id (Part_Categories) -> Part_Cat_Id (Parts)"
   ]
  },
  {
   "cell_type": "markdown",
   "metadata": {},
   "source": [
    "## Investigating Colors"
   ]
  },
  {
   "cell_type": "markdown",
   "metadata": {},
   "source": [
    "### How many colors does the database have?"
   ]
  },
  {
   "cell_type": "code",
   "execution_count": 3,
   "metadata": {
    "_cell_guid": "a90a4fad-924f-48ba-95f6-dc7a6f5dcf61",
    "_uuid": "0b998e6097e66f862e8cc5db686810e50d824ad5"
   },
   "outputs": [
    {
     "data": {
      "text/html": [
       "<div>\n",
       "<style scoped>\n",
       "    .dataframe tbody tr th:only-of-type {\n",
       "        vertical-align: middle;\n",
       "    }\n",
       "\n",
       "    .dataframe tbody tr th {\n",
       "        vertical-align: top;\n",
       "    }\n",
       "\n",
       "    .dataframe thead th {\n",
       "        text-align: right;\n",
       "    }\n",
       "</style>\n",
       "<table border=\"1\" class=\"dataframe\">\n",
       "  <thead>\n",
       "    <tr style=\"text-align: right;\">\n",
       "      <th></th>\n",
       "      <th>name</th>\n",
       "      <th>rgb</th>\n",
       "      <th>is_trans</th>\n",
       "    </tr>\n",
       "    <tr>\n",
       "      <th>id</th>\n",
       "      <th></th>\n",
       "      <th></th>\n",
       "      <th></th>\n",
       "    </tr>\n",
       "  </thead>\n",
       "  <tbody>\n",
       "    <tr>\n",
       "      <th>-1</th>\n",
       "      <td>Unknown</td>\n",
       "      <td>0033B2</td>\n",
       "      <td>f</td>\n",
       "    </tr>\n",
       "    <tr>\n",
       "      <th>0</th>\n",
       "      <td>Black</td>\n",
       "      <td>05131D</td>\n",
       "      <td>f</td>\n",
       "    </tr>\n",
       "    <tr>\n",
       "      <th>1</th>\n",
       "      <td>Blue</td>\n",
       "      <td>0055BF</td>\n",
       "      <td>f</td>\n",
       "    </tr>\n",
       "    <tr>\n",
       "      <th>2</th>\n",
       "      <td>Green</td>\n",
       "      <td>237841</td>\n",
       "      <td>f</td>\n",
       "    </tr>\n",
       "    <tr>\n",
       "      <th>3</th>\n",
       "      <td>Dark Turquoise</td>\n",
       "      <td>008F9B</td>\n",
       "      <td>f</td>\n",
       "    </tr>\n",
       "    <tr>\n",
       "      <th>4</th>\n",
       "      <td>Red</td>\n",
       "      <td>C91A09</td>\n",
       "      <td>f</td>\n",
       "    </tr>\n",
       "    <tr>\n",
       "      <th>5</th>\n",
       "      <td>Dark Pink</td>\n",
       "      <td>C870A0</td>\n",
       "      <td>f</td>\n",
       "    </tr>\n",
       "    <tr>\n",
       "      <th>6</th>\n",
       "      <td>Brown</td>\n",
       "      <td>583927</td>\n",
       "      <td>f</td>\n",
       "    </tr>\n",
       "    <tr>\n",
       "      <th>7</th>\n",
       "      <td>Light Gray</td>\n",
       "      <td>9BA19D</td>\n",
       "      <td>f</td>\n",
       "    </tr>\n",
       "    <tr>\n",
       "      <th>8</th>\n",
       "      <td>Dark Gray</td>\n",
       "      <td>6D6E5C</td>\n",
       "      <td>f</td>\n",
       "    </tr>\n",
       "    <tr>\n",
       "      <th>9</th>\n",
       "      <td>Light Blue</td>\n",
       "      <td>B4D2E3</td>\n",
       "      <td>f</td>\n",
       "    </tr>\n",
       "    <tr>\n",
       "      <th>10</th>\n",
       "      <td>Bright Green</td>\n",
       "      <td>4B9F4A</td>\n",
       "      <td>f</td>\n",
       "    </tr>\n",
       "    <tr>\n",
       "      <th>11</th>\n",
       "      <td>Light Turquoise</td>\n",
       "      <td>55A5AF</td>\n",
       "      <td>f</td>\n",
       "    </tr>\n",
       "    <tr>\n",
       "      <th>12</th>\n",
       "      <td>Salmon</td>\n",
       "      <td>F2705E</td>\n",
       "      <td>f</td>\n",
       "    </tr>\n",
       "    <tr>\n",
       "      <th>13</th>\n",
       "      <td>Pink</td>\n",
       "      <td>FC97AC</td>\n",
       "      <td>f</td>\n",
       "    </tr>\n",
       "    <tr>\n",
       "      <th>14</th>\n",
       "      <td>Yellow</td>\n",
       "      <td>F2CD37</td>\n",
       "      <td>f</td>\n",
       "    </tr>\n",
       "    <tr>\n",
       "      <th>15</th>\n",
       "      <td>White</td>\n",
       "      <td>FFFFFF</td>\n",
       "      <td>f</td>\n",
       "    </tr>\n",
       "    <tr>\n",
       "      <th>17</th>\n",
       "      <td>Light Green</td>\n",
       "      <td>C2DAB8</td>\n",
       "      <td>f</td>\n",
       "    </tr>\n",
       "    <tr>\n",
       "      <th>18</th>\n",
       "      <td>Light Yellow</td>\n",
       "      <td>FBE696</td>\n",
       "      <td>f</td>\n",
       "    </tr>\n",
       "    <tr>\n",
       "      <th>19</th>\n",
       "      <td>Tan</td>\n",
       "      <td>E4CD9E</td>\n",
       "      <td>f</td>\n",
       "    </tr>\n",
       "  </tbody>\n",
       "</table>\n",
       "</div>"
      ],
      "text/plain": [
       "                name     rgb is_trans\n",
       "id                                   \n",
       "-1           Unknown  0033B2        f\n",
       " 0             Black  05131D        f\n",
       " 1              Blue  0055BF        f\n",
       " 2             Green  237841        f\n",
       " 3    Dark Turquoise  008F9B        f\n",
       " 4               Red  C91A09        f\n",
       " 5         Dark Pink  C870A0        f\n",
       " 6             Brown  583927        f\n",
       " 7        Light Gray  9BA19D        f\n",
       " 8         Dark Gray  6D6E5C        f\n",
       " 9        Light Blue  B4D2E3        f\n",
       " 10     Bright Green  4B9F4A        f\n",
       " 11  Light Turquoise  55A5AF        f\n",
       " 12           Salmon  F2705E        f\n",
       " 13             Pink  FC97AC        f\n",
       " 14           Yellow  F2CD37        f\n",
       " 15            White  FFFFFF        f\n",
       " 17      Light Green  C2DAB8        f\n",
       " 18     Light Yellow  FBE696        f\n",
       " 19              Tan  E4CD9E        f"
      ]
     },
     "execution_count": 3,
     "metadata": {},
     "output_type": "execute_result"
    }
   ],
   "source": [
    "# checking first twenty rows for colors csv file\n",
    "colors.head(20)"
   ]
  },
  {
   "cell_type": "code",
   "execution_count": 4,
   "metadata": {},
   "outputs": [
    {
     "name": "stdout",
     "output_type": "stream",
     "text": [
      "<class 'pandas.core.frame.DataFrame'>\n",
      "Int64Index: 135 entries, -1 to 9999\n",
      "Data columns (total 3 columns):\n",
      " #   Column    Non-Null Count  Dtype \n",
      "---  ------    --------------  ----- \n",
      " 0   name      135 non-null    object\n",
      " 1   rgb       135 non-null    object\n",
      " 2   is_trans  135 non-null    object\n",
      "dtypes: object(3)\n",
      "memory usage: 4.2+ KB\n"
     ]
    }
   ],
   "source": [
    "# checking the info of the colors dataset\n",
    "colors.info()"
   ]
  },
  {
   "cell_type": "code",
   "execution_count": 5,
   "metadata": {},
   "outputs": [
    {
     "data": {
      "text/plain": [
       "(135, 3)"
      ]
     },
     "execution_count": 5,
     "metadata": {},
     "output_type": "execute_result"
    }
   ],
   "source": [
    "# checking the shape of the dataset\n",
    "colors.shape"
   ]
  },
  {
   "cell_type": "markdown",
   "metadata": {},
   "source": [
    "In our database we have a total of **135** colors. Every color has their respective name, rgb and transparency factor."
   ]
  },
  {
   "cell_type": "markdown",
   "metadata": {},
   "source": [
    "### How many transparent and non-transparent colors do we have?"
   ]
  },
  {
   "cell_type": "code",
   "execution_count": 6,
   "metadata": {},
   "outputs": [
    {
     "data": {
      "text/plain": [
       "f    107\n",
       "t     28\n",
       "Name: is_trans, dtype: int64"
      ]
     },
     "execution_count": 6,
     "metadata": {},
     "output_type": "execute_result"
    }
   ],
   "source": [
    "# checking the number of transparent and non transparent colors\n",
    "colors['is_trans'].value_counts()"
   ]
  },
  {
   "cell_type": "markdown",
   "metadata": {},
   "source": [
    "We have **107** non transparent yet, **28** transparent colors."
   ]
  },
  {
   "cell_type": "code",
   "execution_count": 7,
   "metadata": {},
   "outputs": [
    {
     "data": {
      "image/png": "iVBORw0KGgoAAAANSUhEUgAAAxsAAAGKCAYAAABke1wGAAAABHNCSVQICAgIfAhkiAAAAAlwSFlzAAALEgAACxIB0t1+/AAAADh0RVh0U29mdHdhcmUAbWF0cGxvdGxpYiB2ZXJzaW9uMy4xLjMsIGh0dHA6Ly9tYXRwbG90bGliLm9yZy+AADFEAAAgAElEQVR4nOzdeXxU9b3/8dd3kslCErIRSAghhAEOsgcQq4KgVutY6lZrb23r0sX21mq325q2t9V0uR3b297b/tre9na5tbV2sbYuaEQRxbqgBYcdRqCIiOxLWAMnyfn9cU5ISCZAIMk5E97Px+M8ICdnTj4ZCMx7vp/v92scx0FERERERKS7hfwuQERERERE+iaFDRERERER6REKGyIiIiIi0iMUNkREREREpEcobIiIiIiISI9Q2BARERERkR6hsCEiIiIiIj1CYUNERERERHqEwoaIiIiIiPQIhQ0REREREekRChsiIiIiItIjFDZERERERKRHKGyIiIiIiEiPUNgQEREREZEeobAhIiIiIiI9QmFDRERERER6hMKGiIiIiIj0CIUNERERERHpEQobIiIiIiLSIxQ2RERERESkRyhsiIiIiIhIj1DYEBERERGRHpHudwEiItLz6mtr+wMlbY5+uP8HpHlHy+835t99d51fdYqISN+isCEikqLqa2sHAKOAgbgBouXX9scAIPMUb/sIoLAhIiLdQmFDRCTg6mtrBwFjgTFtjrG4IUJERCSwFDZERAKivra2DDdEtA0W5wDFftYlIiJyuhQ2RER8Ul9bOxKY5R0zgXI/6xEREeluChsiIr2kvrZ2FMeHi8F+1iMiItLTFDZERHqIwoWIiJztFDZERLpJfW1tOnAJcAMQReFCRETOcgobIiJnoL62Ng135OIG4Dq0QpSIiMgxChsiIl1UX1sbAmYA78cNGIP8rUhERCSYFDZERE5BfW2tAS7EHcG4HijztyIREZHgU9gQETmB+trac4CPA+8DhvhcjoiISEpR2BARaccbxXg3cCdwmc/liIiIpCyFDZE+xBizCBjtOE6u37Wkovra2v7ArcCngRE+lxNosbidi7u7eSPQ5B0tvz8M7KqpDjf4V6GIiASBwkYPMsY4XXzIrY7j/KYnapEzZ4yZDTwGfNFxnP88zXtUAbcD7wQqgRxgD7AEeAT4reM4B7qnYjlV3k7edwC3AHn+VpMyJgF/P9EFsbh9ENjpHbva/D7ZsammOry3JwsWEZHep7DRs2qTnPsskA/8EGj/H+uSHq9IfGOMuQP4PhAGXgN+D9QDJbgrG/0E+BIwzKcSzypeq9TlwGccx7nCGGP8rqkPyvGOylO5OBa3twNrvGN1m99vrKkOd/XNGxERCQCFjR7kOM497c8ZY27BDRv/7TjOG71ckvjEGHMb8CNgB/ABx3GeSXLNxcC9vV3b2aa+tjYHdwTj08BoAOWMUzNm5uxRuOGh+cIPfmZ45NxZ3f0lBnrHRe3OH4rF7bUcH0BWA6tqqsON3V2EiIh0n5DfBUhHxphFxpgDxphsY8y3jDHrjDFHjTE/9j5fbIypMcYsMMa87X1umzHmIWPM5CT3yzXGOMaYOcaYUmPMb4wx240xDcaYZcaYDyR5TMgY83FjzCvGmJ3GmMPGmDeNMU8YY65pd+1OY8wKr67/NcZs8e693BjziST3NsaY24wxjxhjNnj33ut9P+87neekzX1vMcY8792vwavrLmNM+EyeE2PMX3BbqAC+5z225Zja+Z+m++eFO6LhANcmCxoAjuM8izvC0f7xVxpj5rX5ntYYY75hjDnleRnGmDRjzJ3GmNeMMQe953KhMeYjSa5t+9xUGGPu8/5Mm4wx13vXDDbG/NAY87ox5pAxZo8xZrUx5lfGmIpTras31dfWZtTX1t4J/BP4MV7QkFMzZubsTOAu3JB251sr/5H0Z7WH9AMmAv8C3AP8EVgK7I3F7WdicfueWNy+NBa3c3qxJhEROQUa2QiuEDAHsIC5uP3OG73PVeO2aD2H2+dfD1QBVwGzjTGXOY7zfJJ7lgALcecI/AH3Hcr3Aw8YY446jvNQm2v/G7eHfa137QFgMHAecA3wcLt7Z3v1pAP34744eB/wM2PMcMdx7mpzbRrwc+BV4Flgm1fbbODPxpgax3GSvcPf6XPitcD8wft+3gAeBPYD04EYcJEx5j2O4zSf5nPyZ+Ao8AHgaeClNvd4O0mtbd0I5ALzHMd58UQXOo5zpO3HxpjP4waVeu972o073+NruH/WF51sjocxJgQ8BFwNbMB97tNwN6P7lTHmHY7j3JbkoaXAK8B272uHgF3GmP7e+cHAU7h/F8K4rTLXA78DNp2opt7kbcD3IdyfmWH+VpPSjHe8CZCekRWE4aAc4BLvAGiMxe3XcOeS/B14oaY6vMuv4kRERGEjyLJxJ6qOcxyn/dyO14BSx3H2tD1pjIngvgj8PnBukntOw23l+VzLi25jzM9wX/TfhfuCtOXF6ceB9cD4JC+AByS593DcF+HvdhzH9q77BrAY+KIx5s+O4yz2rm0CIo7j/LPdfbOBZ4B7jDG/dByn/YuEEz0nt+OGhN8DH22p2Qsh3wX+DXeVoV+dznPiOM6fjTGHcMPGU12cID7d+zXpiEZnjDGjvdp3A1Mdx9nQ5nv6DXAT8A3g8ye51Udxg8ZLwDsdxzns3edr3rmPG2PmOI7zaLvHTcENJp9qG9K8UZ8hwLccx/lau5qzCNC/K/W1tVc5jvNtY8w4v2uRXpGO+zM9DfgC4MTi9hpaw8eCmupwYIKwiMjZQG1UwfblJC+qcRxnd/ug4Z1fDzwKTPVad9rbA9S0feHoOM4iIA5UG2Pavkh0cN/Jb0rydXZ2Uu9dLUHDu24b7qiCwe2RbznvtA8a3vnDwM+ALGBmJ18j6XMCfAY4BNzWNhw5juMAX/U+98Ekj+vKc3K6WnaafquLj7sZdwTi+y1Bw6vPwQ1CDcCtXjg8kZZWqS+2BA3vPvtwnxuAjyV53EHcP9P2o0EtDrc/4ThOQxBW06qvrb1o7z33vAg8oqBxVjO4y/Pehjvi9mYsbi+Jxe3aWNye4m9pIiJnh8C8AylJvdrZJ4w7mfgO3HfwBuK2sbQ1GLfNqK1VbV9strEJmIw7arDHcZxmY8wfcUcCVhhjHsR9V/Blx3H2d1LSfsdx4knOP+f9Wt2u/gjuyksX475Lnt3uceWdfJ0Oz4k30jIC2Ax8ySSf7HsI90VHe6f0nHRSy6lqKairq+m0zL+Z3/4TjuNsNcas8q6pwh2F6kw1bjB5Ocnn5re5pr2E4zj1Sc4/jTvR/ZvGmAuAOuBFYNkJgkmvqK+tnQR8B7iik78HIhO94+uxuP0W7hs0jwDzNdlcRKT7KWwE16HOXtgbYz4E/BZ3HsXTuH34B3FfzF4OnA9kJnloZ2vYt/wHm9bm3CdwV3y5Gfh375xtjHkU+ILjOBs53rZO7r3V+zW/Tf1jcNt3cnHDSB2wD3cUZRRuq1Ky+jt7TlpGccqBuzupA9znq72uPCenq2VOx5AuPq7lOdvSyedbzhd0dgOvrSkTeMMbETmO4zj7jTEHO7nH1iTncBxnpzHmPNyJurNxd9oG2GaM+RFwr+M4HUbEelJ9bW0Et63r/UYpQ07dEOBT3rErFrcfxp2fpeAhItJNFDaC60Tvgn8Ld/JzdZJ5DyNxw8aZfXG3Heq7wHeNMaW4qyR9CHgvMNoYM7HdC8pBndyq1Pu17TvkX8J9If0+x3H+0q7+j+OGjaRldXK+5d5/dxyn/ZKZQfACcANwKV1b2rbl+yqldXGAtsraXdeB4zgNxpgjdPLn461olYM7KtTh4Se47wbgZq+Faxzu9/Zp4Nu4obFXlvCtr63tB3zDcZw7jTFh5Qw5A8W485s+CuyMxe2/AX/CDR7a40NE5DRpzkaK8eYQVAJLkgSNMN0QNNpzHGer4zgPOo5zNW4b01jctqW28owxyVpxZnm/tm2xGgE003FFK+h8rsYJ68Ndgaq6K8vBnoaWcNXV0Y4HcEdV3mmMOeGfjzGm7YhOy3M2K8l1g4AxuEGjw/yXdpYA2d5oRHstq/i8dpJ7JOU4TrPjOMscx/kv3FEOcFcr63H1tbWXNzvOSuAL7Zc2FjlDA3AXyZgHrIvF7S/F4nayhTFEROQkFDZSjOM4jbjvQo9tuyqU9w7zd3D798+It89Chxf93gvhltaeZPMc7m37os97QVyD+w75b9pc9wbu373j9pQw7v4dN55m2f+F25b1C2NMXpLaBxhjJp7mvVu0zIEZ2pUHeatqfQF37sbfjDGzkl1njLkIWNDm1H24AecLbfeu8NqEvoM7kf7/TmGexK+9X7/bNsx4z9O3vA/br9LVKWPMJGNMspawltGTQ6d6r9NRX1tbvOvuu38PzA0ZM6wnv5YI7kp79wJvxeL272Nxe/rJHiAiIq3URpWa/gv4T2CZMeavuKMEM3H3EKgDomd4/wLgOWPMetyRjDdx9824AhgJPOA4zpvtHvNP3Enpy4wxc3AnfN+Au4/Fd9ssewvw/3CXqX3cm3y+HXfC5jtx93O44TRq/n+4k6VvBi41xjzt1T0AiOAuP/sj3I3ATtdS3MBxqzEmDTf0OcCvHMfpbF4FAI7j/K83f+I/gWeNMYtw9/eox32OLsQdMXqjzWNWG2O+gvtCZ5kx5s+4k9UvBaZ69Xz9FOr+JfAe3JGHFd68m5Z9NiqAXzuO88gpPQOu2UCtMeYFIAHsxB1tuxo3HHVlWeAu2XPPPTc2O86P00Ohwp76GiKdyMR9M+TGWNxejrty3u9qqsOdLZohIiIobKSqH+C25Xwad1nTg7gTrW/AHfo/07CxC/gK7kpRM3BfDO/D3eDvXtx33Ns7jBt4YrhzO4q867/mOM7P217oOM4rxpjLcPeIuBp3lCOOO9E4jdMIG97k51u8F9K3Ae8C+tO68d93cJe+PG2O4xzxRl++jfuio2UE5Uk6n8Td9vE/MsY8hvvndinuPhn9cAPEMuB/OH4ECMdxvmuMWQ18Fnf35CzcQPJt3InYJ32h460udq33dW8G/hU3JK3E/TM45VENz6O4fydm4AaWXNzv/zHcZXoXdfF+J1VfWzv0aFPTLzPS0i4LaV6G+G888BPg3ljc/j3wPzXV4TN5I0NEpM8ySRaoEekSY8xOYKvjONrPQLpVfW1tqKm5+dNALC0Uar88svSMR/LvvrvDvJsxM2dnAT/F20E8Mu2SoRfeeMetvV1cgL2M+/z8UStZiYi00pwNEQmk+trasXZT06tpodAPFTQkBZyPO3qaiMXtW2NxW50DIiKojUpEAqa+tjatsanp7lAo9OVwWpr+jZJUMxx3UYavxuL2N4H7a6rDvbrvjIhIkGhkQ0QCo762tryhsfHl9LS0r4XcZZ5FUlUEdw7W6ljc/nAsbnfHBqEiIilHYUPOmOM4AzRfQ87Um1/+8nV2U9PqrPT0c/2uRaQbjQR+C6yMxe0PxuK2/t8VkbOK3jkUEV/V19aGdx08+POifv1u1Q7g0odZwP3Av8fi9jeAP9VUh0+2R46ISMrTOywi4psNd901fF9Dw8rinBwFDTlbjAYeAJbH4naHVb9ERPoahQ0R8cXKz3/+vTkZGcv7Z2WN9LsWER+MAf4Wi9uPx+L2cL+LERHpKWqjEpFeVV9bazbX1/9wcP/+nw5pOEPkSuCSWNyOAffWVIcb/C5IRKQ7aWRDRHpN/M47i7YdOPBKeX7+HQoaIsdkAfcAK2JxO+pzLSIi3UphQ0R6xcLbbz+vJDc3MSg3V6tNiSQXAZ6Ixe2/xuL2UL+LERHpDgobItLjnr3ttg8MLyp6Pi8zc4DftYikgGtx9+eoicXtsN/FiIicCYUNEekxUcsyT9x669cnlJX9LjM9PcPvekRSSD/gO8DSWNy+2O9iREROl8KGiPSIqGVlfvqCC357fmXlPemhkHZPFjk95wDzY3H7vljc7u93MSIiXaWwISLdLmpZuf920UV104cN+5Amgot0i5uAZbG4fZHfhYiIdIXChoh0q1umTCn5+qWX/n3qkCFq/RDpXpXAs7G4/d1Y3FZbooikBIUNEek2X7zoouGfnT594ZhBgyb5XYtIHxUCvgi8Govb4/wuRkTkZBQ2RKRbfOtd75r8kXPPfbGqqEi7IYv0vInAP2Jx+1/9LkRE5EQUNkTkjP1g9uzLbpw06ZnB/fuX+l2LyFkkC/hpLG4/GIvbBX4XIyKSjMKGiJyRn15zzYffP2HCw8X9+unFjog/rgfisbj9Dr8LERFpT2FDRE5L1LLMvdHoJ68dO/Z/czMz+/ldj8hZbhjw91jc/pLfhYiItKWwISJdFrWstEmDB9/xwerq7/fLyMjyux4RASAduDcWtx+IxW39XIpIIChsiEiXRC0rI1JU9G+fPO+8b+VpREMkiD6Au0TuIL8LERFR2BCRUxa1rHBZXt7nPjdjxl0F2dl5ftcjIp16B+7yuOP9LkREzm4KGyJySqKWlTagX79PfGnWrH8bkJNT6Hc9InJSQ4EXY3H73X4XIiJnL4UNETmpqGWF8rOybvrSrFn/XpaXN8DvekTklOUBj8bi9uf8LkREzk4KGyJyQlHLMtnh8Pu+NHPmN4cWFKgHXCT1hIAfxOL2z2JxO93vYkTk7KKwISKdilqWSQ+FZn/xoovujRQXl/tdj4ickU8AT2oDQBHpTQobInIiF39+xozvjxk0qNLvQkSkW1wKLIzF7RF+FyIiZweFDRFJKmpZF9x54YU/mlxePtLvWkSkW1nAy7G4PcnvQkSk71PYEJEOopY1+frx4793QWXlWL9rEZEeMQB4Jha3J/tdiIj0bQobInKcqGWNnVJeXnvt2LHn+V2LiPSoImBeLG5P9bsQEem7FDZE5JioZY0ozcv7yqfOP39WWiiU5nc9ItLjCnEDh95cEJEeobAhIgBELWtAOBT6/F0zZ87KycjI9bseEek1+cBTsbh9vt+FiEjfo7AhIkQtKxO4/XMzZlxU1r//YL/rEZFe1x+YG4vbF/pdiIj0LQobIme5qGUZ4IPXjx//zsnl5ZoQLnL2ysPdh+MivwsRkb5DYUNELp5cXn79tWPHqoVCRHKBJ2Jxe5bfhYhI36CwIXIWi1qWNTA397bbzz9/uiaEi4gnB3g8Frcv9bsQEUl9ChsiZylvQvhnvjxr1vScjIw8v+sRkUDpBzwWi9sX+F2IiKQ2hQ2Rs1C7CeHlftcjIoGUDTwSi9sj/C5ERFKXwobIWaZlQvh7zjnnYk0IF5GTGIA7h6PY70JEJDUpbIicfS4uzcuLXj9+vDbxEpFTMRJ3hCPT70JEJPUobIicRaKWNQq46XPTp0/KTE/P8rseEUkZFwK/jcVt43chIpJaFDZEzhJRyyoA7nj/xIlllYWF6sEWka66AYj5XYSIpBaFDZGzQMs8jYr8/KJ3jx490+96RCRlfSkWtz/hdxEikjoUNkTODucC5312+vR3ZKSlqe9aRM7ET2JxO+p3ESKSGhQ2RPq4qGUVArd+uLp6UHl+/nC/6xGRlJcG/DkWtyf5XYiIBJ/Chkgf5rVP3VRVWFhw+ahRs/yuR0T6jFzcXcYr/C5ERIJNYUOkbzvfwJQ7L7zwHeG0tAy/ixGRPmUw8FAsbuvfFhHplMKGSB8VtawBwM23TJ1aVta//zC/6xGRPulc4Ad+FyEiwaWwIdIHRS0rBNw8sri4/6UjRmj1KRHpSbfH4vYNfhchIsGksCHSN00HJtx+wQUXpIdCYb+LEZE+75exuD3K7yJEJHjS/S5ARLpX1LIGAh+6duzY/NK8vKF+19Nddh86xJzVq5m7di2rtm1jy/79ZKSlMWbgQG6sruZDkyYRCnV8/+SVN9/kP59/nn+89RZHGhupKiriQ9XVfOK880hLcn0y33n2We5dsOCE1wwrLGTJZz5z7ON9DQ3UzptHXSLB4cZGplVUELviCqqKijo89r7Fi/nC448z/+MfZ0JZ2SnVJBIwecBfYnH7vJrq8GG/ixGR4FDYEOlDopaVBtySmZ7u9LXN+x5euZLPP/44pbm5zKiqYkh+PtsPHOCx1au589FHmbd2LffdcAPGmGOPeXzNGm7605/ISk/n2nHjKMzO5slEgq/MncsrmzZx3w2n1vkxfdiwTj/35Ouvs3TLFi4bcfym7J96+GHqEglumDCBfuEwDyxZwlX33ccrt99Ov4zW+bRv79vH1556is9On66gIaluPPBD4Da/CxGR4FDYEOlbZgBjPzp16uDczMwCv4vpTpHiYv7wgQ/wrpEjjxvB+Pqll3LpL37Bo6tX8+jq1Vw9Zgzgjix85tFHSQuFmHPLLVSXlwPw1Ysv5qr77uORVat4aPly3jt+/Em/9oyqKmZUVXU439TczP3xOAA3T5ly7Pz2AweYs2YNX541i7tmzQJgypAhfOrhh5n7+utcO27csWs/99hjlPfvz5cuuqjrT4pI8Hw8Frfn1lSHH/K7EBEJBs3ZEOkjopaVB7y/NDd37zsqK2f4XU93mzl8OFHL6tAqNSgvj1unTgXghTfeOHb+kVWr2HnoENeNG3csaABkhcN89ZJLAPjVokVnVNNTa9eyed8+zh0yhHGlpcfOb9q7F4Apbb5uy+831dcfO/fHpUuZt24dP776ajLS9d6P9Bm/iMXtIX4XISLBoLAh0ndcAWR8bNq0CzLS0jL9LqY3hdPSAEhvE0T+vmEDAO9s194EcGFlJf3CYV7dtIkjjY2n/XV/s3gxcPyoBsCQ/HwAlmzZcuxc/O23AajwPrf9wAG+/OSTfOr885kyRK/LpE8pBO6PxW29xhARtVGJ9AVRyyoFouNLS4+MGTRoykkf0Ic0NjXxx6VLgeODxdpduwAYUVzc4THpaWlUFhSwescO3tizB6ukpMtf9+19+5i3di39MzO5buzY4z43KC+PKy2Le597jg27d5OVns4fli5lSH4+l49yF+z5t8cfpyg7m69cfHGXv7ZICpgJfBn4tt+FiIi/FDZEUlzUsgxwPXD0psmTLw21nSF9Frhn3jxWbd/O5SNHcmmbsLGvoQGA/pnJB3n6Z2UBUO9d11W/fe01mhyH90+YcNyE7xb/c+21fP2pp5j7+us0NDYyfdgwvnPFFeRkZPDIypU8tno1j996KyFj+OITT/DgsmUcPHqUaRUVfP/d72b0wIGnVZdIgNwTi9tP1lSHF/tdiIj4R2FDJPWNBM5916hRoYqCgpF+F9ObfrZwIT9++WVGDRjAz6+9tkuPdRwHgNNJZs2dTAxvKz8rix9edVWH87sPHeLfnniCj02bxgWVldTU1XHf4sV847LLGFFczNeffprr77+fRXfcQVZYW6RISksH/jcWt6fVVIeb/C5GRPyhfkqRFOYtdfvBkDH114wde7nf9fSmX7z6KjVPPsnokhIeu/lmCvv1O+7zLSMX+44cSfr4/d75luu64ul163irvr7DxPBTcVddHdnhMHdfeikHjx7l14sW8f4JE/jkO97BO0eO5D/f/W7e2rePB5cv73JdIgE0GbjD7yJExD8KGyKpbSow7MPV1cMKs7PPmr6bn778Ml984gnGDBzIYzffzKC8vA7XjPTmaqzz5m601djUxMa9e0kPhRhWWNjlr98yMfyWTkY1OvNkIsGDy5fzo/e8h9zMTDbs3s3RpiYmttlfY5L3+zU7dnS5LpGA+mYsblf4XYSI+ENhQyRFRS0rG7gxLzNzz6xI5BK/6+kt//3CC3xl7lzGl5by2M03U5Kbm/S6ln0x5q1b1+FzL27cyCHbZlpFBZldXHJ2y759PPX66/TPzOTadhPDT6S+oYHPz5nDTZMnMysSAcDxPnekqbXD5ExWxxIJqFzgx34XISL+UNgQSV2XAHm3TJkyITsczvG7mN7w3QULuGfePCaVlfHoTTdRnNP5t331mDEU9+vHX1esIL5587HzDbbNt+fPB+Cj3v4cLQ4dPcrrO3Yc2ycjmd/F4+7E8IkTk04M78xX584F4JuXt3a7DS8qIiMtjbmvv37sXJ33+9GnsUKWSIBdFYvbXZtYJSJ9giaIi6SgqGUVAddkh8M7ppSXv9/venrDA0uW8B/PPkuaMZxfWcnPXnmlwzVDCwr4YHU14M7F+OF73sPNf/4zs3/zG64bN47C7GzqEgnW7trF1WPGcF2bnbwBFm/ezHvuu48LKyt5/NZbO9y/ubmZ3732GtC1Fqpn16/n/nicP914I/lt5ojkZGTwsXPP5acLF/Le3/2O4UVF/H7JEob078/7TmFnc5EU86NY3J5XUx3e73chItJ7FDZEUtPVAP8yceLYrHC438ku7gs27tkDQJPj8D8LFya95sLKymNhA2D2Oefw+K238v3nn+fR1as50tjI8KIivv2ud/HJ886jq6sEP7N+PZu8ieFjBw06pcccOHKEOx99lBsmTOBd3h4bbd39znfS7Dg8uHw5L7zxBtMqKvjelVdqJSrpi4bg7rtxp9+FiEjvMS3LP4pIaoha1hDgmyFjNv38uus+nZeZ2fUZziKdeyT/7ruvaX9yzMzZWcBPgTcBItMuGXrhjXd0HP4RObFm4Lya6vAivwsRkd6hORsiqedy4Oi1Y8eOVtAQkRQTwt17I83vQkSkdyhsiKSQqGUVA9OB7bMikQv8rkdE5DRUA5/xuwgR6R0KGyKpZRbQfOmIERUlOTnlfhcjInKavhGL213bEVNEUpLChkiKiFpWLvAuYNsVo0Zd6Hc9IiJnIAf4qt9FiEjPU9gQSR3nA+nVgwcXVhQUjPC7GBGRM3RbLG5X+l2EiPQshQ2RFBC1rAzgKmDHNWPHaq6GiPQFGcA9fhchIj1LYUMkNUwBcqsKC8Mji4u125uI9BUfjsXt0X4XISI9R2FDJOCilpUGXAPsft+ECe8IhUL6uRWRviIN+IbfRYhIz9GLFpHgGwsMzM/KOjK+tHSK38WIiHSz62Nxu9rvIkSkZyhsiARY1LIMcDWw/92jR58TTkvL8LsmEZFuZoBv+V2EiPQMhQ2RYBvuHbunDhky0e9iRER6yJWxuK0lvUX6IIUNkWC7AjhSVVjYvywvb5jfxYiI9KD/8LsAEel+ChsiARW1rHD6UNoAACAASURBVAJgMrA9Onr0eGOM8bsmEZEedFEsbr/L7yJEpHspbIgE10TcXubmCaWlaqESkbOB5m6I9DEKGyIB5E0MvxTYO62ioqwgO7vE75pERHrB1FjcnuV3ESLSfRQ2RIKpDKgA9l0SiUzwuxgRkV50h98FiEj3UdgQCaapQHNaKGSskhLtGC4iZ5OrY3F7qN9FiEj3UNgQCRhvx/BLgJ1XjBo1IjsczvG7JhGRXpQGfMrvIkSkeyhsiARPBMgHDp9fWakWKhE5G30sFrez/C5CRM6cwoZI8FwAHC3Mzs4cVlg42u9iRER8UAx80O8iROTMKWyIBEjUsrJww8aO2aNHj0kPhdL9rklExCeaKC7SByhsiATLGCAdaJw4ePBYv4sREfHRxFjcnuF3ESJyZhQ2RIJlFnAoLzMzXJaXN8znWkRE/Han3wWIyJlR2BAJiKhlFQDjgF0XRyLD00KhNL9rEhHx2TWxuD3E7yJE5PQpbIgER8vKU87EsrKRvlYiIhIM6WgZXJGUprAhEhznAfsBhhUWjvC5FhGRoPh4LG5n+F2EiJwehQ2RAIhaVjZgAfWTyspKcjIy8v2uSUQkIAYAV/pdhIicHoUNkWCIAAZoHjNo0GDHcRy/CxIRCZAb/S5ARE6P1vAXCYYJQBPAA0uWLJ2/fv3aGVVVw8cOHBipKCgYnpOR0d/n+kRE/PSeWNzOq6kO7/e7EBHpGoUNEZ9FLcsA04DdLee27t9/6MFly1Y8CCsAJpaVlZxXUREZVVISKc3Lq0wPhcJ+1Ssi4oMs4DrgPr8LEZGuUdgQ8d9goBjY2NkFS7ds2bF0y5YdwMKs9PS0GVVVQyeVlUWqiooihdnZpcaYXitWRMQnN6KwIZJyFDZE/LcPeAW3laplb4163JWpOszdaGhsbHp67doNT69duwGYV96/f86MqqrIGK/lKjsczu21ykVEes+lsbg9qKY6vM3vQkTk1ClsiPisLpHYD/w4allhYCgwGjjX+z2ADewBGpI9fvO+fQf/uHTpMmAZwJTy8kHTKioiI4qLI4Py8oamh0L6OReRviANuBb4md+FiMip04sQkYCoSyRsYL13PB61rDzcVarGA1OBgbgrVh0A9uJNKG9v8ebN2xZv3rwNeCknIyN9RlVV5cTS0khVUdGIguzskt74XkREesh7UdgQSSkKGyIB5Y14LAGWRC3rfqAUGIEbPMbgLl3t0Npy1cHBo0cbn0wk1j+ZSKwHnhpaUJA3o6oqck5JSWRIfv7wrHC4X698MyIi3WNWLG4X1VSHd5/8UhEJAoUNkRRQl0g4wBbv+HvUsjKASjq2XB3Fbbk6kuw+b+7du//38fgSYIkBzq2oKDt3yJDIiOLiyMDc3Iq0UCgt2eNERAIiHbgK+I3PdYjIKVLYEElBdYnEUWCtdzwWtax83JaricBkYJB3aUvLVXP7ezjAq5s2bXl106YtwAt5mZnhmVVVwyaUlY2oLCyM5GdlFffCtyIi0lXvRWFDJGUobIj0AXWJRD3wGvBa1LLuA8pwW67OxR39MLj5Yi9uAOlg/5Ej9pw1a9bOWbNmLUCkqCj/wmHDIqNLSiLl+fnDM9PTs3rjexEROYnLtMGfSOpQ2BDpY+oSiWZgs3csiFpWJjAMOAd388CWlqsjuC1XR5PdZ/3u3fXrd+9+DXgtZIw5f+jQwVOGDIlEiooiJbm5Q0LGhHr6exERSSITuBh41O9CROTkFDZE+ri6ROIIkPCOh6OWVYjbcjUJqAayvUv3404279By1ew4zosbN25+cePGzcDzhdnZmRdVVQ0bX1o6orKwMJKXmVnYG9+LiIhHYUMkRShsiJxl6hKJPcAiYFHUskJAOTASt+VqlHdZM27L1cFk99hz+PCRR1atSjyyalUCwCopKbygsjIyasCASHl+flVGWlpmj38jInI2u9jvAkTk1ChsiKSoWNz+Ie4eHHOBp4AlNdXhDjuOn4jXcrXJO+ZHLSsLqALG4oaPSu/Sw7gtV3ay+yR27NiT2LFjEbAoHAqFzq+sLJ9cXh4ZXlQUGZCTUx4yxpzGtygi0pkJWgJXJDUobIikritxJ4FfDMSA7bG4PQ8vfNRUh7d29YZ1iUQDsBpYHbWsh4Ai3JarybgrXWXgTjbfh9ty1SHc2M3Nzc9v2LDp+Q0bNgHPDcjJyZpZVTV87KBBkaGFhZHcjIz80/lmRUTaMMBM4G9+FyIiJ6awIZJCxsyc3W/VgjmHYnF7KG7QaGsgcKN3EIvby3FHPJ4Cnq+pDjd05Wt5e3vs8o5Xo5aVBgzBbbmahhtCDO5O5nuAQ8nus/PgwYaHVqxY9dCKFasAxg4aVPyOoUMjVklJpCwvb1g4LS2jK3WJiHguRmFDJPAUNkRSxJiZs8cAXxozc/bmGTd9Ia9q8vSTPWS8d3wBaIjF7efxwkdNdXh5V79+XSLRBGz0jnlRy+qH23I1jtaNBQ1u6NgDNCa7z8pt23at3LZtF/BqRlpaaPqwYRWTBg+ODC8qihT361dm1HIlIqdG8zZEUoDChkjqGI87ZyIzK7d/tIuPzQIu9w5icXsL8DRuy9XTNdXhHV0tpi6ROASsBFZGLevPwADc0Y4pXq1h79J93tGh5epoU1Pz/PXrN85fv34jML80L6/fjKqq4WMHDoxUFBQMz8nI6N/VukTkrDE2FrdLTuffLxHpPQobIilgzMzZBnfexB7gUHHFiEEnecjJlAE3eYcTi9tLaG25eqGmOpx0743OeC1XO7xjYdSy0oEK3NWtpuGOgIA72rEHd8J5B1v37z/04LJlKx6EFQATy8pKzquoiIwqKYmU5uVVpodC4WSPE5GzkgFmAQ/6XIeInIDChkhqKARKgDcHDh9TmJHdL68b721w99uoBu4CDsbi9gJaW65Wd/WGdYlEI7DBO+ZGLSsHd9RjHDAVd36Jg9tytZdOWq6WbtmyY+mWLTuAhVnp6WkzqqqGTiori1QVFUUKs7NL1XElctabhcKGSKApbIikhpaRAUpHji/r4a+Vg7vS1ZUAsbi9idaWq3mns9RkXSJxEFgGLIta1h9ww0YEN3iMA9K8S+txNxfs0HLV0NjY9PTatRueXrt2AzCvvH//nBlVVZExXstVdjic29W6RCTlad6GSMApbIikhvHAUYCi8qqeDhvtVQAf8Y7mWNxeTGvL1cs11eGke290xmu52uYdL0UtK4w7uXw0rRPNwZ2fsgdIuorW5n37Dv5x6dJlwDIDTCkvH3RuRUVkRHFxZFBe3tD0UEj/von0fefE4nbp6Sz1LSK9Q/8ZiwScN19jIm67Ef0HlpX6WE4INxCcC3wV2B+L28/S2nK1tqs3rEskbGC9dzwetaw83FGP8biTzQd6lx7EfQ6a2t/DARZt3rxt0ebN24CXcjIy0mdUVVVOLC2NVBUVjSjIzi7pal0ikjJmoFYqkcBS2BAJvjwgH3gTIKegpLdHNk4kD7jKO4jF7Q20jno8U1Mdru/qDesSif3AEmBJ1LLuB0px9xSZCozBDTwOrS1XHRw8erTxyURi/ZOJxHrgqaEFBXkzqqoi55SURIbk5w/PCof7dbUuEQmsCShsiASWwoZI8JXhzWEoHDwsL5yVneNzPSdSBXzCO5picftV3OAxF3i1pjrcYVTiRLyWqy3e8feoZWUAlXRsuTqK23J1JNl93ty7d//v4/ElwBIDTKuoKJs6ZEhkRHFxZGBubkVaKJSW7HEikhLG+V2AiHROYUMk+MpwV4yizJroZwtVV6UB53vH3cDeWNyejxc+aqrDb3T1hnWJxFFgrXc8FrWsfNyWq4m4SwO3LAl8ALflqrn9PRzglU2btryyadMW4IW8zMzwzKqqYRPKykZUFhZG8rOyirtal4j4SmFDJMAUNkSCbxTeJOniIZEgtVB1VQFwnXcQi9vrcEc8ngKerakOJ22JOpG6RKIeeA14LWpZ9+EGsxG4ox6jcUOagxs8DiS7x/4jR+w5a9asnbNmzVqASFFR/oXDhkVGl5REyvPzh2emp2d1tS4R6VXDY3E7u6Y6nHT/HhHxl8KGSPCNwJub0H9QeSqNbJzMCO+4HbBjcXshreFjcU11uMOoxInUJRLNwGbvWBC1rExgGHAO7saCLS1XR3BbrpJuXLh+9+769bt3vwa8FjLGnD906OApQ4ZEIkVFkZLc3CEhY0Jd/UZFpEeFcOdzLfa7EBHpSGFDJMDGzJydjbuZ30aA3MJATQ7vTmHcFWVmAN8CdsXi9jO0tly91dUb1iUSR4CEdzwctaxC3JarSbgbGGZ7l+7HnWzeIdw0O47z4saNm1/cuHEz8HxhdnbmRVVVw8aXlo6oLCyM5GVmFna1LhHpEeNQ2BAJJIUNkWArw3sRnFMwICszJ6/A53p6SzFwg3cQi9uraV3l6rma6vChrt6wLpHYAywCFkUtKwSUAyNxW65G4rZcNeO2XB1Mdo89hw8feWTVqsQjq1YlAKySksILKisjowYMiJTn51dlpKVldrUuEekWmrchElAKGyLBVoo3Obx8zOS+1ELVVed4x2eAI7G4/RKtLVdLaqrDHXYcPxGv5WqTd8yPWlYW7kpaY3Bbriq9Sw/jtlwl3bgwsWPHnsSOHYuAReFQKHR+ZWX55PLyyPCiosiAnJzykDGmy9+piJwOhQ2RgFLYEAm2EXhzC4qHjuyrLVRdlQlc7B0xYHssbs+jdWPBLV29YV0i0QCsBlZHLeuvQBFuy9Vk3JWuMnBD3z7clqsO4cZubm5+fsOGTc9v2LAJeG5ATk7WzKqq4WMHDYoMLSyM5GZk5J/ONysip0RhQySgFDZEgm0k3ipKecWDtCRrcgOBG72DWNxeTmvL1fM11eGGrtzM29tjl3e8GrWsNGAI7p/FNNwQYnB3Mt8DJG3p2nnwYMNDK1asemjFilUAYwcNKj5/6NDIqJKSSFle3rBwWlpG179VEenEkFjczj+djURFpGcpbIgE1JiZs8PAYOAtgMzc/v39rShljPeOLwANsbj9PK2jHsu7erO6RKIJd4L+RmBe1LL64bZcjaN1Y0GDGzr2AI3J7rNy27ZdK7dt2wW8mpGWFpo+bFjFpMGDI8OLiiLF/fqVGbVciZypccCLfhchIsdT2BAJrpYN6hyAzH55asPpuizgcu8gFre3AE/TGj52dPWGdYnEIWAlsDJqWX8GBuCOdkzBDTlh79J93tGh5epoU1Pz/PXrN85fv34jML80L6/fjKqq4WMHDowMLSiI9MvIyOtqXSKisCESRAobIsFV0vaDjOwcjWycuTLgJu9wYnF7Ca0tVy/UVIeT7r3RGa/laod3LIxaVjpQgbsR4zTcERBwRzv24E4472Dr/v2HHly2bMWDsAJgYllZyXlDh0ZGDRgQKc3Lq0wPhcLJHicixxnpdwEi0pHChkhw5eNuVkVmTv9wekamdrLuXgZ3v41q4C7gYCxuL6B11GN1V29Yl0g0Ahu8Y27UsnKA4bgjHlNpDZCHcJfYTdpytXTLlh1Lt2zZASzMSk9Pm1FVNXRSWVmkqqgoUpidXaqOK5GkzuYV+0QCS2FDJLhK8VaiKiqvUgtVz8sBrvQOYnF7E27L1VxgXk11eHdXb1iXSBwElgPLo5b1B9zJ7BHc4DEOSPMurcfdXLBDy1VDY2PT02vXbnh67doNwLzy/v1zZlRVRcYMHBipKCgYnh0O53a1LpE+SmFDJIAUNkSCayBwBKD/oHK1UPW+CuAj3tEci9uLaW25ermmOpx0743OeC1X27zjpahlhXEnl4+mdaI5uHt67AGSrqK1ed++g39cunQZsMwAU8rLB51bUREZUVwcGZSXNzQ9FNK/63K2GnTyS0Skt+k/JZHgOhY28ooGamTDXyHcQHAu8FVgfyxuP0try9Xart6wLpGwgfXe8XjUsvJwRz3G4042H+hdehC35aqp/T0cYNHmzdsWbd68DXgpJyMjfUZVVeXE0tJIVVHRiILs7JL2jxHpwzSyIRJAChsiATRm5mwDFOPu9UC//GKNbARLHnCVdxCL2xtobbl65nTW+q9LJPYDS4AlUcu6H/eF0wjclqsxuIHHobXlqoODR482PplIrH8ykVgPPDW0oCBvRlVV5JySksiQ/PzhWeFwv67WJZJCimNxO72mOpx0LpSI+ENhQySYMnGXbW0EyOpfoLARbFXAbd7RFIvbr+KOeswFXq2pDncYlTgRr+Vqi3f8PWpZGUAlHVuujuK2XB1Jdp839+7d//t4fAmwxADTKirKpg4ZEhlRXBwZmJtbkRYKpSV7nEiKMrgjgm/7XYiItFLYEAmmfKC55YOs3Hy1UaWONOB877gb2BuL2/PxwkdNdfiNrt6wLpE4Cqz1jseilpWP23I1EZhMa6/6AdyWq+b293CAVzZt2vLKpk1bgBfyMjPDM6uqho0tLbWqCgurCrKzi7pal0gAlaKwIRIoChsiwdSfNisTZfbL1chG6ioArvMOYnF7He6Ix1PAszXV4aQtUSdSl0jUA68Br0Ut6z7c/UNG4I56jMZ9h9fBDR4Hkt1j/5Ej9pw1a9bOWbNmE2D+eOONP8Hd/DC7q/WIBIjmbYgEjMKGSDD1x33BCGhDvz5mhHfcDtixuL2Q1parxTXV4Q6jEidSl0g0A5u9Y0HUsjKBYcA5uBsLtrRcHcFtuUq6cWH+3Xe/Cfyyq9+MSMBoRSqRgFHYEAmmQrwN/TCGtHBGpr/lSA8JAzO845vArljcfobWlqu3unrDukTiCJDwjoejllWI23I1CXcDw5aRi/24k81F+hKNbIgEjMKGSDANwpv0m5HVTz+nZ49i4AbvIBa3V9O6t8dzNdXhQ129YV0isQdYBCyKWlYIKAdG4rZcjQQycCeii/QFChsiAaMXMSLBdGyPjYzsnLDPtYh/zvGOzwBHY3H7RVrneyypqQ532HH8RLyWq03eMT9qWVm4K2l1abUskQBT2BAJGIUNkWDqj7uTNOHsHP2cCrgjEBd7RwzYHovb82jdWLDLoxN1iUQDsLpbqxTxl1buEwkYvYgRCaZMvOVLw5nZ+jmVZAYCN3oHsbi9nNaWq+drqsMNPtYm4hfNbxMJGL2IEQmmDFpGNrKy1UYlp2K8d3wBaIjF7b/jtVzVVIeX+1qZSO/J8rsAETmewoZIMGXizdnQyIachizgMu8gFre3AE/T2nK1w8faRHqSRjZEAkYvYkSCKYzXRpWemaWRDTlTZcBN3uHE4vYSWluuXqipDifde0MkBSlsiASMwoZIwIyZOdvgtlG5YSOcqZ9T6U4Gd7+NauAu4GAsbi+gddRDE8YllSlsiASMXsSIBE/IOxyA9AyFDelROcCV3kEsbm/CbbmaC8yrqQ7v9rE2ka7K8LsAETleyO8CRKSDdLxRDYD0jEy1UUlvqgA+AvwJ2BGL26/G4va33vfN/5seSg8bn2sTORm9rhEJGL1jKhI8x4WLNI1siH9CuDuNn5udV/DVf/nO7+x927f8c8eGNevtI4c1z0NERE5KL2JEgicdr4UKIC09rJ9TCYT0cGa4qHyYVVQ+zPK7FhERSQ0abhQJnjBtwobT3Nx8gmtFRKSVWv1EAkZhQyR4jhvJaLKPNvpViIiIiMiZUNgQCZ7jwkajwoaIiIikKIUNkeA5rg2gqfFok1+FiIikmAa/CxCR4ylsiATPcSMZTUc1siEicor2+l2AiBxPYUMkeBppM7rRaB9R2BAROTUKGyIBo7AhEjzHhQv78CHtZyAicmr2+F2AiBxPYUMkeI4LGw0H9x3xqxARkRSjkQ2RgFHYEAme49qoGvbvVdgQETk1ChsiAaOwIRI8x41sHKrfrbAhInJqFDZEAkZhQyR4bO9XA2A3HGpsbm7S8rciIiensCESMAobIgGzasEcBzgMpLWca260NUlcROTkNEFcJGAUNkSC6RBtdhJvtI9qoyoRkZPTyIZIwChsiATTcWHj6KGD+3ysRUQkVShsiASMwoZIMB2kTRtVw4F6/QcqInJy+rdSJGAUNkSC6SBtRjYO1++u97EWEZFUoTkbIgGjsCESTLuAjJYPDu7ZoXfrREROzAa2+V2EiBxPYUMkmLYC4ZYP9u3cqrAhInJib9RUh7VMuEjAKGyIBNNewGn5oH7rJrVRiYic2Fq/CxCRjhQ2RILpuLCxa9P6esdxTnC5iMhZb53fBYhIRwobIsFUj7eDOEDj0YYmu+Hwfh/rEREJOoUNkQBS2BAJppZ9NY4FjiOH9quVSkSkc2qjEgkghQ2RAFq1YE4T7hKOmS3njhzYp0niIiKd08iGSAApbIgE13Ygq+WDw/v2aGRDRCS5RuANv4sQkY4UNkSCawttRjYO7t2pkQ0RkeTeqKkON/pdhIh0pLAhElxbaRM29m1/WzvjiogkpxYqkYBS2BAJrt20Wf727TXxLT7WIiISZJocLhJQChsiwXXcXhv7drx96MihA5q3ISLSkUY2RAJKYUMkuDoEi4O7t2t0Q0Sko9f9LkBEklPYEAmuPUAzkNZyYu/WTW/7V46ISGAt9rsAEUlOYUMkoLy9Nv4J5Lac27lxrcKGiMjx1tVUh3f4XYSIJKewIRJsa4C8lg/eWvkPhQ0RkeO97HcBItI5hQ2RYHuDNj+nB3ZvP3zk0H7ttyEi0kphQyTAFDZEgu1t2qxIBXBg13aNboiItFLYEAkwhQ2RYNsJ2EB6ywlNEhcROeYAsNzvIkSkcwobIgG2asGcZmADbSaJ73gjobAhIuL6R011uMnvIkSkcwobIsG3mjZhY/PKRdprQ0TEtdDvAkTkxBQ2RIJvI2BaPji4d2dDw8F9e3ysR0QkKDRfQyTgFDZEgq9D29S+bZvf9KMQEZGA0ciGSMApbIgE3y7aTRLfsnbZWv/KEREJBG3mJ5ICFDZEAs6bJL6ONpv7rX9l/j+d5man80eJiPR5aqESSQEKGyKpYQ1tJokf2L398IE9Ozb7WI+IiN/+7ncBInJyChsiqWFN+xM7N76uVioROZs94XcBInJyChsiqWEj0EibeRtvLntlnX/liIj4amlNdVijuyIpQGFDJAWsWjDHBpYChS3nNi596W37yOGD/lUlIuKbx/0uQEROjcKGSOpYDGQf+8hx2LvlzfX+lSMi4hu1UImkCIUNkdSxljab+wFseX25WqlE5GyzG+2vIZIyFDZEUsSqBXN2A1tosyrVuleeWec4WgJXRM4qT9ZUh5v8LkJETo3ChkhqeRUoaPngwK6thw/u2dlhh3ERkT7sb34XICKnTmFDJLWspF0r1c6Na7UEroicLQ4DdX4XISKnTmFDJLW8ATRx3BK4CxU2RORs8VRNdVir8ImkEIUNkRTiLYG7jDZL4L4Rf+HthoP79vhXlYhIr/mr3wWISNcobIiknkW0XQIX2LZ2xXKfahER6S028JjfRYhI1yhsiKSeDsvdJl6au8yPQkREetH8muqwRnFFUozChkjq2QVsAvJbTmx9fdmug3t2bvGvJBGRHvcbvwsQka5T2BBJMasWzHGA+bQJGwBvJ5ZodENE+qpdaMlbkZSksCGSmpZ6vx5bBnf1gjkrnGZt8CcifdLvaqrDR/wuQkS6TmFDJAWtWjBnL7AKKGo5t3fLxgN7t27qMJ9DRKQP+IXfBYjI6VHYEEldC4DctifeiL/wmk+1iIj0lJdqqsOr/C5CRE6PwoZI6lqJu8FfWsuJVc89+rp95LA2vBKRvuSXfhcgIqdPYUMkRa1aMOcQ8AowsOVck320edu6lZooLiJ9xT7gT34XISKnT2FDJLU9D2S0PbH6+cfVSiUifcUfaqrDh/wuQkROn8KGSGpbC+wB+rWc2JJYsnP/rm2b/CtJRKTbaGK4SIpT2BBJYasWzGkGngaK255f/+r8hf5UJCLSbeI11eHFfhchImdGYUMk9f0D92f52J4by5/+y+qGA/t2+1eSiMgZ08RwkT5AYUMkxa1aMGcnsII2oxtOc7PzRvyFl/2rSkTkjBwCfu93ESJy5hQ2RPqGp4Cctifij/9+id2gZXBFJCX9vKY6XO93ESJy5hQ2RPqGVcA2oH/LCbvhUONbK//xin8liYiclgbge34XISLdQ2FDpA9YtWBOE/AwUNT2/Gtz7v9HU6N91J+qREROy69rqsNb/C5CRLqHwoZI3/Ea7gZY2S0nDu7Z0bB17XLtuyEiKcFxHBu41+86RKT7KGyI9BGrFsw5CjwKlLQ9v+SJB15ubm5q9qcqEZFTZ4z5bU11+E2/6xCR7pPudwEi0q1eBq7H3VX8KMCuTev37dy4dsXAqtETfK1MpJssfvS3/OWej53wGhMK8R+LGo59fOTQARb85nusmPdX9rz9BukZWZSfM5npH/4so6dHT/lr7926ief+77tsXv0ae7e8yeF9e+iXX0zxkOFMufoWqq+8kbRw+LjH7N+5lcd/8EXWvTIfYwwjzruUd3/he+QWDexw/7k//hoL//wzPvuXJeQPLD/luvoCx3GajDHf8bsOEelexnEcv2sQkW40Zubsa4HZwLFdxMvHTBl46W3//q/+VSXSfd5OLGHVs48m/dwb8RdZ/49nsaZfyS0/ehiAw/v38vOPXsy2dSsZFBlDZNolHD18kNUL5nBwzw5mf/EHXPiBT5/S1/7nogX89vPvpWLcNIrKq+jXv5BD9btJvDSX+q2bGD51Jh/5aR1p6e57ec3Nzfz0pgvZ/s9VTH7PTdgNh1jyxAOUnzOFT/7meUKh1gaDt9fE+clNF3LNV37CudfceobPUkq6v6Y6/GG/ixCR7qWRDZG+ZwFu2EgDmgA2r1q8fe+WN9cVlA0d4WtlIt1gsDWJwdakpJ/76c0zAJj23o8eOzfvZ99k27qVjL3kGj4Qe+BYEDiwZwc//fCF1P3XXVgXvosBQ0ee9GsPnXg+X39u+3EhAaDJtvn17Vfyz0ULWDn/b0y4/H0AvLVyEZtXLeZ93/gVkqzauwAAIABJREFUk2e7r6MLBw/jmZ9/k82rFlMx7lz38Y2N/KX2NoZPnXVWBg3HcZqNMf/hdx0i0v00Z0Okj1m1YM5u4HlgUNvzK+c//Lw/FYn0jq3rVrBp+Sv0H1jO6OlXHju/8ll3hOOyf737WNAAyC0sYfqHPktTo80rf/nFKX2N9HBGh6ABkBYOM2bWVQDsenPdsfN7t2wEYMjYc4+dawkYLZ8DeO7/7mXXpvVc9+//c0p19DXGmL/WVIdX+12HiHQ/hQ2Rvulp3HkbpuXE+n88u2n3W/9c419JIj3r1Yd+CcDUq28hlJZ27PyBnVsBKCof3uExRUOqAFj/6vwz+trNTU0kXngSgNKR44+dLygdCsDm1a2Lwr21arH7ubJKALatX8mzv/wOV9zxbQoHV55RHanIcfu5v+V3HSLSM9RGJdIHrVow5+0xM2cvBsYCW1vO/+Nvv376sttrR4VCaXqjQfoUu+Ew8ScewIRCnHvtR477XL+CAezfuYXdb29g0PAxx31u91sbANjxRqJLX+/gnp28/Kef4jgOB/fuZN3CZ9i1aR0To//C6Ivefey6IWOnMnh0NQ9/+3beXLoQu+EQ8boHGDJ2KuVjptDc1MRfam9j6PjzeMcNnzzN7z61mf/f3p2HR1WdfwD/vpNMEpZA2CGArAoMoCCCiMKAiqKOolZttXVpXVqrVn+2WqhLUatWa11QLKIorqAg6wiigBn2fWfYQ0LIQghk3ydzfn+cGxgmk5CETG6W7+d55hm427xzM5nc9573nCPinDDYusPsOIgoOHjBQdRwLQYQAZ/WjeOH95xK3r9jo3khEQXHzp9noyA7AxeNGIeojl3PWtd3pC6pWv7RK/CWlJxenptxEqu/fg8A4CkqRHFBfqVfLzcjDcun/QsrPn4VG2Z/hFPHDmPkvU/jzknTIXL6Vw6WkBDc/9489LnqBuz6eQ72rV6CAdfcjvvemQuLxYLVX72L44d24/YXp6IgOwPfPnc//nlVa7wwPBJfPHUbMlMTz+e01HlKKS+ASWbHQUTBw9GoiBoom90hAJ4E0Bc+rRvNW7dvcsuEyX8JDQuPMC04oho29fd2xO9Yh/vemYt+dsdZ67LTUvDh/SORkRyPDr37o9fQq1FckIe9rkUIaxqJ7LRkFBfk4ZUNOQi1hlXpdb0lJchKTcSeXxbg56kvoX2Pfnhg8gI0bdn6nPumHT2Iyb+5DGMfnYSR9/4fvnz6V4jdvBI3P/s2wpu1wMI3nkKL9tH48+erz0pgGphPJgy2Pmx2EEQUPGzZIGqg3C6nAjAbQDj0yFQAgJxTqflHtq5ymRYYUQ07HutG/I51aNmhC/oEmDMjsm1HPPbVWoy4+3EU5edhw+yp2OtahL4jb8RDU5fAU5iPiOYtq5xoALrlIqrTBbjynidw23NTkLBrA37+30vn3E8phe9f+iM69h6IK3/7JNKOHoQ7ZhFG3vd/uNRxL/qPGY/rH38Fx3ZvQuymmCrHVR8opTIA/MPsOIgouNhng6gBc7uciTa7YxmAMQCOlS7f+P3HG7sOGDY0onmLc99+JarjyusY7qt5q3a4+Zm3cfMzb5+1/PCmGCil0KX/ZecdR58R4wAAR7acO5df9+2HSNi9EU/M3AiLxYLUI3rshui+g09v09l2KQCdTPUaNua846trRGTShMHWE2bHQUTBxZYNoobPCT3fRnjpgpLiIu9e16Jl5oVEVDOKCwuw7YevIRYLLqvG/BSb5k0HAAy64e7zjiXzhO5fYQmp+D5eelIcln7wAq55+LkzHdaNkuaSosLT23kKCwPt3iAor3cvgClmx0FEwcdkg6iBc7ucmQDmAujou3zXz3P2ZqclHzUnKqKasevnOcjPSkefK8t2DC/l9XpRmJdTZvmmeZ9ix4/folOfS8okGwXZmUg9sg9ZJ5LPWn5010YU5eeVOVZhXg6c//krAAQs5fI195VH0faC3hj1wDOnl7U3ko69K384vWzvSicAlBlBqyEQi+WJCYOtHrPjIKLgYxkVUeMQA2AcgEgA2aULtzq/Xjrq/r8+3IA7n1IDt2mubpkYdvtD5W5TXJCHV6/tgguHX4M2XXsDAI5sW41juzehdZdeuPe/sxFitZ61z55fFmDOpIdw6c334s6Xpp9e7vrsDcRuXokeQ0YiquMFsEY0QebxY9i/ZikKsjPQ7ZIrMPoPfy83lo1zpyN2iwuPfbn2rAkG217QG/3HjMeWhZ+jKD8H4c1aYOuiL9BlwFD0HDq6OqemzlJe77yJQ8KXmx0HEdUOJhtEjYDb5Sy02R1fA3gCPslG/PY1SWmjb97VrnufgeXvTVQ3pcbuRdz2NeV2DC8Vag3HJdffhbjta3Bwvb7GbdOlJ67904u46ndPIbxp80q/5tDbHoS1STMc27MZsVtWorggD00iW6Fzv0tx8dg7MGT8A2clEb4yUxOx5N0JsD/wDKL7DCqz/leTPkZYs0jsjVmEEk8x+o68EbdMmNygRqJSylsgFsv/mR0HEdUeDn1L1EjY7A4LgOcAdACQVrq8TddeLcY9+e/HQ0JDreXuTERUM16aMNg6yewgiKj2sM8GUSPhdjm9AGZCl1KdvlV6MuFw1uFNK1jSQERBpbzeBABvmB0HEdUuJhtEjYjb5TwEYD38Oouv/27qBnYWJ6JgEovl6QmDrZWfpp2IGgQmG0SNz/fQ/bXOFJYrhbUzpywo8XiKTYuKiBos5fUumzDYOsfsOIio9jHZIGpk3C5nKoBFADr7Lj9+eM8pllMRUU3zer05YrE8aHYcRGQOJhtEjdNiAEkA2vguZDkVEdU0ETw1YbCV3ytEjRSTDaJGyO1yFgH4GEBz+JVTrfnmg/kspyKimuApKlg28dLw6efekogaKiYbRI2U2+WMA7AAQBff5amx7nSWUxHR+SrxeHJCwyLuMzsOIjIXkw2ixm0xgESwnIqIaphS3scmDLYmmx0HEZmLyQZRI8ZyKiIKhqL8vIXPD2v2hdlxEJH5mGwQNXIspyKimuQpKkwNa9KU5VNEBIDJBhFp5ZZTZaUmxZkSERHVO8rr9SrlvWvCYGum2bEQUd3AZIOIKiyn+mX663OKCvJyzIqNiOqPgtys914Y3sJldhxEVHcw2SAiAGeVU5012V/m8WO5m+d/Nkd5vcqUwIioXijMy9nTJDLqWbPjIKK6hckGEfkqneyvre/CQ+uXxcduWcn+G0QUkKeoMCc0LPymCYOtHrNjIaK6hckGEZ1mlFP9D0CE8ThtzTeT16QnxR0wJTAiqrO83hJvXkbaHc8NbRpvdixEVPcw2SCis7hdzmMApgOIhu93hFJYMe3VeYW52elmxUZEdU96YtxLr13ffanZcRBR3cRkg4gCWQ9gOfyGw83NSCtY883kWSWeYs6/QUQ4dSx26X9u6fuy2XEQUd3FZIOIynC7nArALAAJANr7rju2Z3Pqrp/nzDclMCKqM7LTUg4l7N403uw4iKhuY7JBRAG5Xc5CAB9Cf0808123c+l37vgd61eZEhgRma4gNysz5dDua2dO/F2h2bEQUd3GZIOIyuV2OY9DJxzt4Tv/BgDXjDdXpCfFs8M4USNTUlxUnHJg1+3TH72BHcKJ6JyYbBBRhdwu504AswF0BSCnVyiFZVNfnpuflX7CrNiIqHYppZByaM/fpv5h9AqzYyGi+oHJBhFVxmIAG+DXYTw/61Th8mn/+qowLyfTnLCIqDadOLLvy/fvGTbZ7DiIqP5gskFE5+R2Ob0AZgBIAdDOd92pY7FZrhn/+bK4sCDPjNiIqHZkpBzd/OPkfzxgdhxEVL8w2SCiSnG7nHkAJkN/b0T6rks5sPPk2pkffF3iKS4yJTgiCqqsE8nxx/ZsGWvceCAiqjQmG0RUaUaH8fcAtAbQxHdd/PY1SZvmfTrLW1JSYkpwRBQU2WnJKXtdi+xf/e2uDLNjIaL6h8kGEVWJ2+XcB+B9AB0BhPuuO7DmxyM7l377vVJeZUpwRFSjck6lntr2w9c3znv1MY48RUTVwmSDiKrM7XJuBTAdQGcAVt91O3+avXffysVOUwIjohqTm5GWuf67qfcufnfiNrNjIaL6i8kGEVWL2+VcCT3LeFcAIb7rNs2bvjV2s2u5KYER0XnLz0rPXv/t/x5d9tEri82OhYjqNyYbRHQ+lgBwAugG3zk4AKz+6t3Vx9xb1pkSFRFVW0FOVu762VOfSty7dZbZsRBR/cdkg4iqze1yKgBzAMQgQMKx4uNXf0o9sm+HCaERUTUU5uXkb/x+2oSEXRs/M36/iYjOC5MNIjovxlCYXwDYAuCCs1YqhZ+mvLjwRNz+nWbERkSVV1yQX7hp7if/jNu25kMmGkRUU5hsENF5c7ucHgDTAOyD3yzjXk+xd8l7E+cl7d++0ZTgiOicPEUFxZvmf/p67GbXfzmXBhHVJFGKNy+IqGbY7I5mAJ6FHhY32X/9qAeeGd190Ah7rQdGROUqLiwo2rroi3f2r17ynNvl5Dw5RFSjmGwQUY2y2R1RACYCaAkgxX/98F8/evmFw8eOE5Ey+xJR7SrIzcpdN+vDdxN2bXjJ7XIWmx0PETU8TDaIqMbZ7I5WAJ6GbuFI9F9/6c33XdJ/zPjxYrEw4yAySc6pE+muGW9OPnn00Gtul7PI7HiIqGFiskFEQWGzOyIB/AVATwAJ/usHXHN7n0E33nOnJSQkpMzORBRU6clHU1ZMe2VqbnraG26Xs8DseIio4WKyQURBY7M7mgB4FMDFAOIBnPWFc9GI67oPve2hu0Os1jAz4iNqjI4f2hO34pPXphQX5E1xu5z5ZsdDRA0bkw0iCiqb3REG4EEAVwCIA3DWSDfdB18VPeLux34XGhbRxITwiBqVuO1r9678/K23oNSX7KNBRLWByQYRBZ3N7ggB8FsA10K3cJw14k2nPoPa2h/4271hTZq1MCM+ooZOKYV9q37Ysmnu9NcBzOPwtkRUW5hsEFGtsNkdFgC3ARgP3YfjrLuqUZ26NR/z0MS7Itt06GpGfEQNlddb4t3+wzdrdy+f+yKAGE7YR0S1ickGEdUam90hAG4A8BvoUaoKfdeHhkWEjHlo4rhOF118mRnxETU0JcVFReu/m/rL4U2//MPtcm41Ox4ianyYbBBRrbPZHXbofhzJAMp0UL1s/AOD+45y3MSRqoiqLz8rI2PVl2//lHJw1wtul/OA2fEQUePEZIOITGGzOy6DHqkqB0C6//rug6+KHn7Xn37NfhxEVZcWfzBuxSevLS7IznjN7XKWmeuGiKi2MNkgItPY7I5u0HNxRAJI8l/fon3nZlc//NydLdp16lbrwRHVQ0p51cF1P29ZP/ujpVDqHbfLedLsmIiocWOyQUSmstkdLQA8AmAggKPwG6nKEmq1jHlw4nWd+w2+3Iz4iOoLT1FB/vrZH62K3RSzHMCHbpczx+yYiIiYbBCR6Wx2Ryj0SFU3o5x+HINv+u3A/lffeoslJDS0tuMjquuy05ITV3zy+vrMlIQ5AL7nHBpEVFcw2SCiOsPox/FHAAUAypR/dB14eccRdz/26/CmkVG1HhxRHaSUQty2NVvWfP3edm+J5yMAmzm0LRHVJUw2iKhOsdkdXQE8AaA1gGP+65tFtY0Y9cDfbmzXvc/AWg+OqA4pLszP3TR3+upDG5bvAPC+2+Us8/tCRGQ2JhtEVOfY7I7mAB4CMBh6AkCP/zaXjPtN//5X33pTaFh4k9qOj8hsmamJR1d8/OrG7BPJLgCfuV3OXLNjIiIKhMkGEdVJNrsjBLoPx20AUgGUuZhqFd09cuR9T4+P6ti1V23HR2SGkuLiov1rlqzdPH9GHKC+hJ4R3Gt2XERE5WGyQUR1ms3uGATdj8MC3Xm8jMvveGRo7+HXjg0JtVprNTiiWpSRfPTQyi/e3pKRHJ8AYIrb5YwzOyaihk5EHgfwPoA7lVJzzI6nPrKYHQARUUXcLud2AC8AOASgJ4Bw/202zJm26acPXvgwMzXxSG3HRxRsnqKC/J0/zV608I0n12Ukx8cAmFRTiYaIKOMRLyIR5WwTZ2xj+khwIjLDJ+bKPGLMjpkqJiJpIrL7PPYPF5E/iciPIpIiIkUikiUiW0XkLRHpV5PxUtWxZYOI6gWjrGo0gHsAFEKXVp1NBENv+8OQi664bmyINaxMUkJU36TFH9y98vO3tuScSi0G8CWAVTU52pSI+B5rolLq3wG2iQPQDYBVKVWm/1RtEpFbAQzyWzwagB2AC0CM37o4pdSMoAdG1SYiaQBSlFIDqrHvQADzAPQCcBzAMuh+fhHQczeNBBAK4Dql1PJqxseWjfPEZIOI6hWb3dEZehLAbgASAZSZT6B1l54trvztXxytOnW7sLbjI6oJRfm5WTt+nLVsr+74vR3Al26X80RNv46RbKQDUNAXZb2UUml+28ShjiQbgYjIJAD/BPCSUmqSudFQVVU32RCRrgA2A2gP4DUALyulCv22iQbwCoDFSqnvqxkfk43zxDIqIqpX3C5nIoB/Qd/NigbQzn+bU8disxa98dQ3O5Z+O6cwLyeztmMkqi6lFJIP7Nw8/9XH5u11OY8DmALgnWAkGj7yoC/IWkBftFeaiNwlIitFJFNE8kVkl4hMFJEyLYtGOVaciDQVkf+IyFERKRSRQyLydxGRGno/geJ83CirukNExovIKqPUJtvvvcw04skTkRwR2WiU6JSJTUTmGMdsJyJPiohbRApEJFlEPhCRZgH2uczYL95476kisllE3vLb7i3j2JeJyCMistM4vyki8pGItA1w7OHG6+4SkQwjlv0i8m8RiazOOTG2GygiX4tIolGilCwin4tIz/M5JyLiMJLdNgD6+5W/fVD+T/O0N6ETjY+VUs/5JxoAoJRKUko9CMDpF2dXEZlmfAaLROS4iHwnIhdX4nV9j3OFiCwQXQpWKCKxIvKuiJT5u+RzbjqIyF9FZI9xbpzGeouIPCwiG4zj5RvxLRbdoldvmV5/SURUVcbsyAtsdsc2AA8C6AHdylHku92OJbP2uH9ZuP/yOx65otugEVeFhFrDTAiXqFIKcjJPbp4/Y1ns5phCAOsBzHK7nBm19PJTADwO4I8i8r5S6sC5dhCR1wBMBJAG4BsAOQBugL7LfL2IjFVK+bc8WgH8BH2jYAn0sNa3Avg3dOnLSzXzdsp1vxGjE8D/AHTyWfc2dCvPWgBJAKIAjDW2uwTAo+UccwqAawD8AOBHY5/HoFuDbi7dSEQuB7AKugx0IYB44zUuAvAkgL8FOPYLxrG/NY4/Brpl1y4iw5VSvp+PxwFcDWAlgKXQ53oogL8DuE5ERiilCqpyTkTkNgAzAYgR8xHjfd0NwCEiI5VS7mqekwPQP+9noT87H/rsvzHAMU8TkSgAd0K3yL1c0bYA4JuIiEhf6HPUDvo8fQX9N+QO4z3dXJmSKxG5C8DXAEoAzIaeF2o49M9yvIhcqZRKCrDrJwBGAFgMYBF0sg8A70LPMXUQ+pznQP+eXA79OzL/XDHVVSyjIqJ6zWZ3WAFcC/2HJx9AwDvAUR0vaH75nY9c3b5nv0EilqDdQSWqquLCgrzYzTErN837NNnrKc4GMB3ArtqYCdy4s5yolOoiIndAXzTNU0rd7rNNHPzKqETkCuiL8gQAw5RSKcbyUOhWRweA55RSrwU4zhIAv1JK5RvL20NfeAJAuwAJyrnewySco4xKzpTClAC4RinlCrBNL6XUYb9lIdAX+r8CMEAptcdn3Rxj+UEAdqVUsrE8DPrcDAHQv/RiXEQ+gk4UrvW/mBWRtr7la0ZLx1+hL0SH+l7Qi8g0AA8DmKyUetJneXcAR5VSZw2FLCJPQl/IPq6UmlLZcyIiHaEH5sgGMFIpdchn3RAAawBsUkqNrO45MdZVuYxKRG6Avljfr5TqW9n9jH1XA7gSwFNKqfd8ll8LnQinAOhRmqBIgDIqEWkNIA46QR6hlNrsc5xXADyPsr9HpefmCIBRSqljPuss0MO7J0KfH/9ysLM+H/UNy6iIqF5zu5zFbpdzCfSXexL0Haoy5QsZKUdzlr7//MKYT9+clpWaFFfLYRKVUeIpLo7fvnblvFf+NGPD7I9SvZ7iGAD/cLucO2sj0fBnXEitA3CbiFx1js3/YDz/qzTRMI7hgb5I9kJPzBnIX0oTDWOfVAALALQE0Kea4VfWzECJhhHH4QDLSgBMNv57fTnHfLH0otrYpwjA58Z/hwXYPt9/QQUXkp8EaDl4zjjG/cZFaukx4vwTDcOH0K2+5cVf3jl5EPq7dIJvomG81hboAQuuEpELAuxb1XNSVaWtL8cq3MqPiPSBTjT2QycQpymllkF/DjsBuOkch7oTQCSAGb6JhuFV6IRlfKByNwCv+iYaviFA/5xKyqyox4kGwDIqImog3C5nks3u+Dd02cDd0HXAyfDrQJ6wa0NKwq4Nnw+49ld9baNvGRvRvEVrE8KlRkx5vd6UQ7u3bpz7yerMlIQo6Duak90u536zY4NOFNYC+K9RplNe0nOp8bzCf4VS6oCIHAPQQ0Si/Ep9Mv0vXA0JxnOr6gZeSeWW54hIB+iSnnEAugNo6rdJ53J29b/YBAK/n5nQLRJLRWQ2gOUA1iqlKhqyu0wSoJQ6ISJu6FaCntCtDxDdT+bPAO4C0Be6D47vTeXy4i/vnFxhPA8VkR4B1nc3nvsBOOq3rrLnpLpKW6ermpSXfm5jyknMVkCXLA0GMLcSxwn0+S8QkbUAbocuv/MvySpzvpVSXhGZBeD3AHYbn49VANYppbL9t69vmGwQUYPhdjlLAKy32R07oEurxkP/MUqGvtN62u5l3+/bt/KHg0Nvf3BYjyEjR4VawwPOMUBUk04mHN67ZcGMFSmHdodBXwwuArDY7XIGqqWvdUqpdUa5xx3QF63flrNpS+M54ESbxvILjO18k43y+qCUjnIVUvloqyUl0EKjlGsL9AX5OgCfQcfqge6E/CgCzPFjCPSeyrwfpVSMiFwN3YfiHugLS4jIHgAvKKXmBTjO8XO8j5bGMUr7VFwHXcI019i3tB/bsxXEH/CcQN+wAXRfi4o0D7CsUufkPJT2hehSxf0q87kFdF+aYB2nvPP9RwD7oPvQPG8sKxaRhQD+qpSKP0dMdRaTDSJqcNwuZz6ARTa7Yx30XaqroO8en9Wfw1NUULJu1pR1u5fN3THsjodHdbpw4BBLSCi/F6nGZZ1Ijt+xZOayI1tXFUGXpqwGsDDIo0xV1wToRP11EQl0AQwApaO8dQRQpvwIZ8pc6tpocOXdCf8zdKLxjFLKf2SosSi/c3jVXlypGAAxoidQHArgRuiL+TlGZ+u1frt0KOdQHY3n0vNrh040FgK4zfeuvdHi8UJFYZWzvPTYvZRSsRXsb4Z10OVGfUSkSzllSYH4fm4Dqezn9nyOE/B8G32V3gTwptFfZiSA30H38+grIpcYZX31DvtsEFGD5XY509wu5yfQo5UkQ/fnKDMEZHZact7yqS//uPCNp96N37F+lae4sE7cZab6Ly8rPXXLgs9nzn/1zwuPbF1lhS55+afb5ZxeRxON0r4LH0L/vjxRzmbbjOfR/itEpDf0HecjfiVUdVlv4znQXAz2mn4xpVSBUmqVUmoidEuHBT4jV1X02sawqjboC9nSJKA0/vkByoNGonrXe+t99g+mElSxtcP4XM2GLqd6/hyblyZcwJnPrd1oDfI3xnjeeo5DVvT5D4cuQVPQc+RUmVIqRSk1Wyk1Hrrsqj/O/IzrHSYbRNTguV3OWOjhOCdD/3HqBqDMMLhZqYm5rs/eWDHv5T+9c2jDip+L8vPqfa0smSM7LeXoth++/u77SQ99teeX+cUATgF4HXrODP/69rroZehSmOcQuEzmU+P5ed85BYzRm96Cvr6YHuwga1Cc8Tzad6Ex6tbTNfECIjJaAsx3gTOtF3kB1j0kIja/Za8CaALgC5/EIs54Hu33mtEA3kP1TINuEX5NRC7xXykioSIyusxeVXcSQCcRsVZxv2cBpEIP1/yyMeKVf4wdjNG7HACglNoH3SrSD7psyXfbMdAt4SnQI11V5DvooWl/H+DcTIRu2VhQ2Y7dItJcRAIlluE4U7JVZmCB+oLlAkTUKLhdTi+ALTa7Yzf03avboS+IjsOvE3l+dkbR2pnvr934/ccbBt14zyU9Lxs1IqJ5yzZlj0p0hvJ6vScTDrvdMQvXxW1bnQ5d66+gL/a2G5/BekEpdcqYR+PNctavFZE3oS/4dhv9PHKh52sYAF0m9p/aircGTAfwFwDTRORG6BaDPtAXqXMA/LoGXuN5AMNF5Bfo4U/zAVwMPUrUCZxJ4HwtA7BRRL6FvrAeAz3vwgEAL/ps54K+236fMQTueug5Gm6C7qztO59IpSilkkTkN9D9draKyM8A9kLfsOkKPapTKIBAIy5VxXLoOUKWiMga6O/jTUqppeeIL8EYrnYedJnYw0aMx6CHpO0P3TIUCmCWz64PQc+z8T8RuQW69aE7dD+lIgD3lzMfie9rnxKRR6BH5FpndOhOhJ5nYwx0Z/jHK30GdN+OGBE5DN2ScRR6gIJxAC4E8I1Sqj7cpAiIyQYRNSpul7MQwI82u2MDdCfysdDfhcehJ9s6zVNUULJ5/qdbtyycsW3g2Dv6XTj82iubtWoXXftRU13mKS4qTDmwc8uOH2dtOJlwuAC6jrsZ9FCfa4xJKOujydB9GboHWqmU+ruIbIO+qLoPehK5w9AX1f81hjutF5RSR0RkFHTr0xjopMkN3Yl7G2om2XgXutP9MOiLYAv0Rem70OcrMcA+r0DfZX8c+qIzE7rF4XnfEjWlVLGIjINu9bgeOiE5Cv0zfB36QrjKlFJOERkEPUrZWOiWkwLostQl0InY+XoeuqXmRuP4IdCTAlaYbBjx7RKRAQAeAHAbdL+V1tDf5bHQ5YDTjBaN0n3cxjzl39yZAAAHsUlEQVQhL0BfzF8LfV4XQg/lXKnSJ6XUTBE5Ct3HyQFdopsEPaTuv4whnSvrJIB/QH/2RkJPOJgF3dn/DZwZNrhe4qR+RNSo2eyOFtBf7jdB/8E7gcDlDACAi64c16PfqJuuatmhS89aCpHqqMLc7PT4Hes2bF/8zbaCnMzSO7we6BGmlrtdznI/R0QV8ZnUb2iAeRyI6hUmG0REAGx2RxPoJvDx0E3ap6DvLAXU2TakfZ8rxw3q0Kv/xdaIJmUmEaSGKzst5eihDcvX714+d5/yeqOgh7DNgE4yNrhdzlxzI6T6jskGNSRMNoiIfNjsDiv0hE63Q5fDZEEnHgFZQq2WfqNu6t390pGDWkV362OxhHDgjQbIU1RYkBZ/YM+BtT9tjdu2OgW6P0YEdO39QgC73C6np8KDEFUSkw1qSJhsEBEFYLM7LNAdDG8F0Au6tOoEKpixNrJtp6b9r751YGfbkEHNotqUN/461RPK6/VmpCQcit+xdsfemEX7iwvzLdAjB1mgO90uBRDrdjn5h5RqFJMNakiYbBARVcBmdwj0+OYO6JFjvNAtHRWWynQdMKzDRVdeP6h9T9vF1vCIpsGPlGpKzqnUxOT9O3bv+WXBrqzUxFzoUWHaQY+S8xMAV12dI4OIqK5hskFEVEk2u6MtgMugRy9pDX3xeQK6U3BAIdYwS79Rjgu7DRpxcVSnC3qHhFrLjAVP5svNSEtOObh7z4E1P+45Ebc/A3pEnLbQpVLsj0FEVE1MNoiIqsgoseoJYASAq6CH/MwGkI4Kyqys4U1Ceg+/pkeX/kP7tOna66KwJs1a1ErAVIbyelVuRlrSiSP7DxxY99Pu44d2l/bLaQU9hKUXulRqFYD97I9BRFQ9TDaIiM6DMYrVAADXQE8C5oUeM/2cw55ecPHwjt0HXdmnTbcLezdv1a6zWCwS3Ggbt4KcrFPpSXGxKQd3HY7dFBOXm5FWOnFXc+gkQ6DniVgO3eGbrRhEROeJyQYRUQ2x2R3toMusxkJfvBZD9++ocDZaAGgW1Tai17AxPTpedHHvVtHde4U3bd4yuNE2fJ6igvyMlGOxqbF7Y+O2rTqcFn8w02d1MwCls8IfBxADPcv38dqOk4ioIWOyQURUw4wyq97QQ+heAT0PA6DLrLIrc4yOFw5s07nfpV1bd+4RHdk+unPTlq07WCwhIcGJuGHwlng82WnHE9KOHjycsHtj7NGd65Nx5m+cQP8cWhj/ToNOMHYASOKIUkREwcFkg4goiIzEozMAG4ArAXSF7teRD518VKovQGhYREhn25AOHXrZoltFd+8c2a5TdJPIlu1EGmfplaeoMD8v4+Tx7LTklPTkoympsXtTkg/sOFFSXOT12awpdAuTBTrBiIXuh7EHwDEmGEREwcdkg4ioFtnsjjbQrR5DoIfStRqrsoxHpb+Uw5u1sHYdMLRTux59O7fq1C26eZv2ncKaNo9qSC0gSikU5eWk56SfSMlKTUw5dSw2JeXgrpSTCYcDze4eBj37exPo85gGnVy4ARxhHwwiotrHZIOIyCQ2uyMUuqWjD4ChAHpAXyQLdMtHNirR38OXWCzSKrp7ZKvo7lEt23eOat66fasmLVtHNWkRFRXeLDIqLKJZy7rWEd1TVJhflJ+bXZSXk1WQm5VVkJ2ZlZd5Kjs9KS4tad/24/lZpwrL2TUUuiyqufH/fADbjUcsgFNsvSAiMheTDSKiOsJmdzQFEA2gC4C+0ElIS5xp7ciDbv0oru5rWEKtljZderZoFd0tqkW76FZNWrSODA2PCAsNCw8PsYaFhVrDw0Ks1rAQa1h4SKg1zBJqDdPPoeEWS4ilomMrpaC8JZ4Sj6fIW+Ip9pZ4ir2e4qISj6fYU5ifX5CblZWflZGVl3kyO+dkalbWiaSs9MQjWUX5uZUpJYuATiqa4kxCVgg9etQWAIcAJLpdTm+5RyAiolrHZIOIqI4yZi+PhO7z0QW638eFOHPBDeiZzAuMR1AvtEPDIkIiIqPCQsPCQ7yeYm9J8ZmcosRT7PV6imvi9S3Q7685dFmUMpadgk4sDgBIApACIJ0tF0REdRuTDSKiesRIQFpDt4B0hy696gigHfSs117ou/4WAEU4k4gUoAr9QYIoFEC4zyMMOubS1goAOAbgIHQpVAqAFLfLec55S4iIqO5hskFE1AD4tIJEGY9WADoZj44A2hqbln7pl17Yl5ZGeQCUVPAoTQb8HxboJKf02f/fJT6vZ4EuBTsJ4ITxSAWQiTMd5E9ytm4iooaDyQYRUSNgDMHbAjoJaQLdolDashABXbrUFHqyuyY+j6bGekHZBMQLnaSUtpzk+/w7D0AGziQR2QCy3C5nUdDfLBER1RlMNoiIiIiIKCgqHFmEiIiIiIiouphsEBERERFRUDDZICIiIiKioGCyQUREREREQcFkg4iIiIiIgoLJBhERERERBQWTDSIiIiIiCgomG0REREREFBRMNoiIiIiIKCiYbBARERERUVAw2SAiIiIioqBgskFEREREREHBZIOIiIiIiIKCyQYREREREQUFkw0iIiIiIgoKJhtERERERBQUTDaIiIiIiCgomGwQEREREVFQMNkgIiIiIqKgYLJBRERERERB8f9oLwW7oNY5wwAAAABJRU5ErkJggg==\n",
      "text/plain": [
       "<Figure size 1008x504 with 1 Axes>"
      ]
     },
     "metadata": {},
     "output_type": "display_data"
    }
   ],
   "source": [
    "matplotlib.rcParams.update({'font.size': 20})\n",
    "\n",
    "# visualize transparent vs non transparent colors\n",
    "transparent = colors['is_trans'] == 't'\n",
    "non_transparent = colors['is_trans'] == 'f'\n",
    "\n",
    "# data to plot\n",
    "labels = 'Transparent Colors', 'Non Transparent Colors'\n",
    "sizes = [transparent.sum(), non_transparent.sum()]\n",
    "colors = ['lightcoral', 'lightskyblue']\n",
    "\n",
    "# explode 1st slice\n",
    "explode = (0.1, 0) \n",
    "\n",
    "fig, axs = plt.subplots(figsize=(14, 7))\n",
    "plt.pie(sizes, explode=explode, labels=labels, colors=colors,\n",
    "autopct='%1.1f%%', shadow=True, startangle=90)\n",
    "\n",
    "plt.axis('equal')\n",
    "plt.show()"
   ]
  },
  {
   "cell_type": "markdown",
   "metadata": {},
   "source": [
    "## Investigating Parts and Part Categories"
   ]
  },
  {
   "cell_type": "markdown",
   "metadata": {},
   "source": [
    "### How many parts does the database have?"
   ]
  },
  {
   "cell_type": "code",
   "execution_count": 8,
   "metadata": {},
   "outputs": [
    {
     "data": {
      "text/html": [
       "<div>\n",
       "<style scoped>\n",
       "    .dataframe tbody tr th:only-of-type {\n",
       "        vertical-align: middle;\n",
       "    }\n",
       "\n",
       "    .dataframe tbody tr th {\n",
       "        vertical-align: top;\n",
       "    }\n",
       "\n",
       "    .dataframe thead th {\n",
       "        text-align: right;\n",
       "    }\n",
       "</style>\n",
       "<table border=\"1\" class=\"dataframe\">\n",
       "  <thead>\n",
       "    <tr style=\"text-align: right;\">\n",
       "      <th></th>\n",
       "      <th>name</th>\n",
       "      <th>part_cat_id</th>\n",
       "    </tr>\n",
       "    <tr>\n",
       "      <th>part_num</th>\n",
       "      <th></th>\n",
       "      <th></th>\n",
       "    </tr>\n",
       "  </thead>\n",
       "  <tbody>\n",
       "    <tr>\n",
       "      <th>0687b1</th>\n",
       "      <td>Set 0687 Activity Booklet 1</td>\n",
       "      <td>17</td>\n",
       "    </tr>\n",
       "    <tr>\n",
       "      <th>0901</th>\n",
       "      <td>Baseplate 16 x 30 with Set 080 Yellow House Print</td>\n",
       "      <td>1</td>\n",
       "    </tr>\n",
       "    <tr>\n",
       "      <th>0902</th>\n",
       "      <td>Baseplate 16 x 24 with Set 080 Small White Hou...</td>\n",
       "      <td>1</td>\n",
       "    </tr>\n",
       "    <tr>\n",
       "      <th>0903</th>\n",
       "      <td>Baseplate 16 x 24 with Set 080 Red House Print</td>\n",
       "      <td>1</td>\n",
       "    </tr>\n",
       "    <tr>\n",
       "      <th>0904</th>\n",
       "      <td>Baseplate 16 x 24 with Set 080 Large White Hou...</td>\n",
       "      <td>1</td>\n",
       "    </tr>\n",
       "    <tr>\n",
       "      <th>1</th>\n",
       "      <td>Homemaker Bookcase 2 x 4 x 4</td>\n",
       "      <td>7</td>\n",
       "    </tr>\n",
       "    <tr>\n",
       "      <th>10</th>\n",
       "      <td>Baseplate 24 x 32</td>\n",
       "      <td>1</td>\n",
       "    </tr>\n",
       "    <tr>\n",
       "      <th>10016414</th>\n",
       "      <td>Sticker Sheet #1 for 41055-1</td>\n",
       "      <td>17</td>\n",
       "    </tr>\n",
       "    <tr>\n",
       "      <th>10019stk01</th>\n",
       "      <td>Sticker for Set 10019 - (43274/4170393)</td>\n",
       "      <td>17</td>\n",
       "    </tr>\n",
       "    <tr>\n",
       "      <th>10026stk01</th>\n",
       "      <td>Sticker for Set 10026 - (44942/4184185)</td>\n",
       "      <td>17</td>\n",
       "    </tr>\n",
       "    <tr>\n",
       "      <th>10029stk01</th>\n",
       "      <td>Sticker for Set 10029 - (4216816)</td>\n",
       "      <td>17</td>\n",
       "    </tr>\n",
       "    <tr>\n",
       "      <th>10036stk01</th>\n",
       "      <td>Sticker for Set 10036 - (821407)</td>\n",
       "      <td>17</td>\n",
       "    </tr>\n",
       "    <tr>\n",
       "      <th>10039</th>\n",
       "      <td>Pullback Motor 8 x 4 x 2/3</td>\n",
       "      <td>44</td>\n",
       "    </tr>\n",
       "    <tr>\n",
       "      <th>10048</th>\n",
       "      <td>Minifig Hair Tousled</td>\n",
       "      <td>13</td>\n",
       "    </tr>\n",
       "    <tr>\n",
       "      <th>10049</th>\n",
       "      <td>Minifig Shield Broad with Spiked Bottom and Cu...</td>\n",
       "      <td>27</td>\n",
       "    </tr>\n",
       "    <tr>\n",
       "      <th>10049pr0001</th>\n",
       "      <td>Minifig Shield Broad with Spiked Bottom and Cu...</td>\n",
       "      <td>27</td>\n",
       "    </tr>\n",
       "    <tr>\n",
       "      <th>10050</th>\n",
       "      <td>Minifig Sword [Uruk-hai]</td>\n",
       "      <td>27</td>\n",
       "    </tr>\n",
       "    <tr>\n",
       "      <th>10051</th>\n",
       "      <td>Minifig Helmet Castle with Lateral Comb [Uruk-...</td>\n",
       "      <td>27</td>\n",
       "    </tr>\n",
       "    <tr>\n",
       "      <th>10051pr01</th>\n",
       "      <td>Minifig Helmet Castle with Lateral Comb and Ha...</td>\n",
       "      <td>27</td>\n",
       "    </tr>\n",
       "    <tr>\n",
       "      <th>10052</th>\n",
       "      <td>Minifig Beard, Rounded End [Gandalf]</td>\n",
       "      <td>27</td>\n",
       "    </tr>\n",
       "  </tbody>\n",
       "</table>\n",
       "</div>"
      ],
      "text/plain": [
       "                                                          name  part_cat_id\n",
       "part_num                                                                   \n",
       "0687b1                             Set 0687 Activity Booklet 1           17\n",
       "0901         Baseplate 16 x 30 with Set 080 Yellow House Print            1\n",
       "0902         Baseplate 16 x 24 with Set 080 Small White Hou...            1\n",
       "0903            Baseplate 16 x 24 with Set 080 Red House Print            1\n",
       "0904         Baseplate 16 x 24 with Set 080 Large White Hou...            1\n",
       "1                                 Homemaker Bookcase 2 x 4 x 4            7\n",
       "10                                           Baseplate 24 x 32            1\n",
       "10016414                          Sticker Sheet #1 for 41055-1           17\n",
       "10019stk01             Sticker for Set 10019 - (43274/4170393)           17\n",
       "10026stk01             Sticker for Set 10026 - (44942/4184185)           17\n",
       "10029stk01                   Sticker for Set 10029 - (4216816)           17\n",
       "10036stk01                    Sticker for Set 10036 - (821407)           17\n",
       "10039                               Pullback Motor 8 x 4 x 2/3           44\n",
       "10048                                     Minifig Hair Tousled           13\n",
       "10049        Minifig Shield Broad with Spiked Bottom and Cu...           27\n",
       "10049pr0001  Minifig Shield Broad with Spiked Bottom and Cu...           27\n",
       "10050                                 Minifig Sword [Uruk-hai]           27\n",
       "10051        Minifig Helmet Castle with Lateral Comb [Uruk-...           27\n",
       "10051pr01    Minifig Helmet Castle with Lateral Comb and Ha...           27\n",
       "10052                     Minifig Beard, Rounded End [Gandalf]           27"
      ]
     },
     "execution_count": 8,
     "metadata": {},
     "output_type": "execute_result"
    }
   ],
   "source": [
    "# checking first twenty rows for parts csv file\n",
    "parts.head(20)"
   ]
  },
  {
   "cell_type": "code",
   "execution_count": 9,
   "metadata": {},
   "outputs": [
    {
     "name": "stdout",
     "output_type": "stream",
     "text": [
      "<class 'pandas.core.frame.DataFrame'>\n",
      "Index: 25993 entries, 0687b1 to zbb022\n",
      "Data columns (total 2 columns):\n",
      " #   Column       Non-Null Count  Dtype \n",
      "---  ------       --------------  ----- \n",
      " 0   name         25993 non-null  object\n",
      " 1   part_cat_id  25993 non-null  int64 \n",
      "dtypes: int64(1), object(1)\n",
      "memory usage: 609.2+ KB\n"
     ]
    }
   ],
   "source": [
    "# checking the info of the parts dataset\n",
    "parts.info()"
   ]
  },
  {
   "cell_type": "code",
   "execution_count": 10,
   "metadata": {},
   "outputs": [
    {
     "data": {
      "text/plain": [
       "(25993, 2)"
      ]
     },
     "execution_count": 10,
     "metadata": {},
     "output_type": "execute_result"
    }
   ],
   "source": [
    "# checking the shape of the dataset\n",
    "parts.shape"
   ]
  },
  {
   "cell_type": "markdown",
   "metadata": {},
   "source": [
    "In our database we have a total of **25993** different parts. Every part is associated with its part_category."
   ]
  },
  {
   "cell_type": "markdown",
   "metadata": {},
   "source": [
    "### How many part categories does the database have?"
   ]
  },
  {
   "cell_type": "code",
   "execution_count": 11,
   "metadata": {},
   "outputs": [
    {
     "data": {
      "text/html": [
       "<div>\n",
       "<style scoped>\n",
       "    .dataframe tbody tr th:only-of-type {\n",
       "        vertical-align: middle;\n",
       "    }\n",
       "\n",
       "    .dataframe tbody tr th {\n",
       "        vertical-align: top;\n",
       "    }\n",
       "\n",
       "    .dataframe thead th {\n",
       "        text-align: right;\n",
       "    }\n",
       "</style>\n",
       "<table border=\"1\" class=\"dataframe\">\n",
       "  <thead>\n",
       "    <tr style=\"text-align: right;\">\n",
       "      <th></th>\n",
       "      <th>name</th>\n",
       "    </tr>\n",
       "    <tr>\n",
       "      <th>id</th>\n",
       "      <th></th>\n",
       "    </tr>\n",
       "  </thead>\n",
       "  <tbody>\n",
       "    <tr>\n",
       "      <th>1</th>\n",
       "      <td>Baseplates</td>\n",
       "    </tr>\n",
       "    <tr>\n",
       "      <th>2</th>\n",
       "      <td>Bricks Printed</td>\n",
       "    </tr>\n",
       "    <tr>\n",
       "      <th>3</th>\n",
       "      <td>Bricks Sloped</td>\n",
       "    </tr>\n",
       "    <tr>\n",
       "      <th>4</th>\n",
       "      <td>Duplo, Quatro and Primo</td>\n",
       "    </tr>\n",
       "    <tr>\n",
       "      <th>5</th>\n",
       "      <td>Bricks Special</td>\n",
       "    </tr>\n",
       "    <tr>\n",
       "      <th>6</th>\n",
       "      <td>Bricks Wedged</td>\n",
       "    </tr>\n",
       "    <tr>\n",
       "      <th>7</th>\n",
       "      <td>Containers</td>\n",
       "    </tr>\n",
       "    <tr>\n",
       "      <th>8</th>\n",
       "      <td>Technic Bricks</td>\n",
       "    </tr>\n",
       "    <tr>\n",
       "      <th>9</th>\n",
       "      <td>Plates Special</td>\n",
       "    </tr>\n",
       "    <tr>\n",
       "      <th>10</th>\n",
       "      <td>Tiles Printed</td>\n",
       "    </tr>\n",
       "    <tr>\n",
       "      <th>11</th>\n",
       "      <td>Bricks</td>\n",
       "    </tr>\n",
       "    <tr>\n",
       "      <th>12</th>\n",
       "      <td>Technic Connectors</td>\n",
       "    </tr>\n",
       "    <tr>\n",
       "      <th>13</th>\n",
       "      <td>Minifigs</td>\n",
       "    </tr>\n",
       "    <tr>\n",
       "      <th>14</th>\n",
       "      <td>Plates</td>\n",
       "    </tr>\n",
       "    <tr>\n",
       "      <th>15</th>\n",
       "      <td>Tiles Special</td>\n",
       "    </tr>\n",
       "    <tr>\n",
       "      <th>16</th>\n",
       "      <td>Windows and Doors</td>\n",
       "    </tr>\n",
       "    <tr>\n",
       "      <th>17</th>\n",
       "      <td>Non-LEGO</td>\n",
       "    </tr>\n",
       "    <tr>\n",
       "      <th>18</th>\n",
       "      <td>Hinges, Arms and Turntables</td>\n",
       "    </tr>\n",
       "    <tr>\n",
       "      <th>19</th>\n",
       "      <td>Tiles</td>\n",
       "    </tr>\n",
       "    <tr>\n",
       "      <th>20</th>\n",
       "      <td>Bricks Round and Cones</td>\n",
       "    </tr>\n",
       "  </tbody>\n",
       "</table>\n",
       "</div>"
      ],
      "text/plain": [
       "                           name\n",
       "id                             \n",
       "1                    Baseplates\n",
       "2                Bricks Printed\n",
       "3                 Bricks Sloped\n",
       "4       Duplo, Quatro and Primo\n",
       "5                Bricks Special\n",
       "6                 Bricks Wedged\n",
       "7                    Containers\n",
       "8                Technic Bricks\n",
       "9                Plates Special\n",
       "10                Tiles Printed\n",
       "11                       Bricks\n",
       "12           Technic Connectors\n",
       "13                     Minifigs\n",
       "14                       Plates\n",
       "15                Tiles Special\n",
       "16            Windows and Doors\n",
       "17                     Non-LEGO\n",
       "18  Hinges, Arms and Turntables\n",
       "19                        Tiles\n",
       "20       Bricks Round and Cones"
      ]
     },
     "execution_count": 11,
     "metadata": {},
     "output_type": "execute_result"
    }
   ],
   "source": [
    "# checking first twenty rows for part_categories csv file\n",
    "part_categories.head(20)"
   ]
  },
  {
   "cell_type": "code",
   "execution_count": 12,
   "metadata": {},
   "outputs": [
    {
     "data": {
      "text/plain": [
       "(57, 1)"
      ]
     },
     "execution_count": 12,
     "metadata": {},
     "output_type": "execute_result"
    }
   ],
   "source": [
    "# checking the shape of the dataset\n",
    "part_categories.shape"
   ]
  },
  {
   "cell_type": "markdown",
   "metadata": {},
   "source": [
    "In our database we have a total of **57** part categories. \n",
    "\n",
    "### How many parts each part_category contains?"
   ]
  },
  {
   "cell_type": "code",
   "execution_count": 13,
   "metadata": {},
   "outputs": [
    {
     "data": {
      "text/html": [
       "<div>\n",
       "<style scoped>\n",
       "    .dataframe tbody tr th:only-of-type {\n",
       "        vertical-align: middle;\n",
       "    }\n",
       "\n",
       "    .dataframe tbody tr th {\n",
       "        vertical-align: top;\n",
       "    }\n",
       "\n",
       "    .dataframe thead th {\n",
       "        text-align: right;\n",
       "    }\n",
       "</style>\n",
       "<table border=\"1\" class=\"dataframe\">\n",
       "  <thead>\n",
       "    <tr style=\"text-align: right;\">\n",
       "      <th></th>\n",
       "      <th>Part_Category_Name</th>\n",
       "      <th>Part_Name</th>\n",
       "      <th>part_cat_id</th>\n",
       "    </tr>\n",
       "  </thead>\n",
       "  <tbody>\n",
       "    <tr>\n",
       "      <th>0</th>\n",
       "      <td>Baseplates</td>\n",
       "      <td>Baseplate 16 x 30 with Set 080 Yellow House Print</td>\n",
       "      <td>1</td>\n",
       "    </tr>\n",
       "    <tr>\n",
       "      <th>1</th>\n",
       "      <td>Baseplates</td>\n",
       "      <td>Baseplate 16 x 24 with Set 080 Small White Hou...</td>\n",
       "      <td>1</td>\n",
       "    </tr>\n",
       "    <tr>\n",
       "      <th>2</th>\n",
       "      <td>Baseplates</td>\n",
       "      <td>Baseplate 16 x 24 with Set 080 Red House Print</td>\n",
       "      <td>1</td>\n",
       "    </tr>\n",
       "    <tr>\n",
       "      <th>3</th>\n",
       "      <td>Baseplates</td>\n",
       "      <td>Baseplate 16 x 24 with Set 080 Large White Hou...</td>\n",
       "      <td>1</td>\n",
       "    </tr>\n",
       "    <tr>\n",
       "      <th>4</th>\n",
       "      <td>Baseplates</td>\n",
       "      <td>Baseplate 24 x 32</td>\n",
       "      <td>1</td>\n",
       "    </tr>\n",
       "    <tr>\n",
       "      <th>5</th>\n",
       "      <td>Baseplates</td>\n",
       "      <td>Baseplate 24 x 32 with Squared Corners</td>\n",
       "      <td>1</td>\n",
       "    </tr>\n",
       "    <tr>\n",
       "      <th>6</th>\n",
       "      <td>Baseplates</td>\n",
       "      <td>Baseplate 24 x 32 with Rounded Corners</td>\n",
       "      <td>1</td>\n",
       "    </tr>\n",
       "    <tr>\n",
       "      <th>7</th>\n",
       "      <td>Baseplates</td>\n",
       "      <td>Baseplate 24 x 32 with Dots Print [363 / 555]</td>\n",
       "      <td>1</td>\n",
       "    </tr>\n",
       "    <tr>\n",
       "      <th>8</th>\n",
       "      <td>Baseplates</td>\n",
       "      <td>Baseplate 24 x 32 with Dots Print [354 / 560-2]</td>\n",
       "      <td>1</td>\n",
       "    </tr>\n",
       "    <tr>\n",
       "      <th>9</th>\n",
       "      <td>Baseplates</td>\n",
       "      <td>Baseplate 24 x 32 with Dots Print [358]</td>\n",
       "      <td>1</td>\n",
       "    </tr>\n",
       "    <tr>\n",
       "      <th>10</th>\n",
       "      <td>Baseplates</td>\n",
       "      <td>Baseplate 24 x 32 with Dots Print [345]</td>\n",
       "      <td>1</td>\n",
       "    </tr>\n",
       "    <tr>\n",
       "      <th>11</th>\n",
       "      <td>Baseplates</td>\n",
       "      <td>Baseplate 24 x 32 with Dots Print [545-2 / 351]</td>\n",
       "      <td>1</td>\n",
       "    </tr>\n",
       "    <tr>\n",
       "      <th>12</th>\n",
       "      <td>Baseplates</td>\n",
       "      <td>Baseplate 24 x 32 with Dots Print [149]</td>\n",
       "      <td>1</td>\n",
       "    </tr>\n",
       "    <tr>\n",
       "      <th>13</th>\n",
       "      <td>Baseplates</td>\n",
       "      <td>Baseplate 24 x 32 with Dots Print [346-2]</td>\n",
       "      <td>1</td>\n",
       "    </tr>\n",
       "    <tr>\n",
       "      <th>14</th>\n",
       "      <td>Baseplates</td>\n",
       "      <td>Baseplate 24 x 32 with Dots Print [353]</td>\n",
       "      <td>1</td>\n",
       "    </tr>\n",
       "    <tr>\n",
       "      <th>15</th>\n",
       "      <td>Baseplates</td>\n",
       "      <td>Baseplate 24 x 32 with Dots Print [1601]</td>\n",
       "      <td>1</td>\n",
       "    </tr>\n",
       "    <tr>\n",
       "      <th>16</th>\n",
       "      <td>Baseplates</td>\n",
       "      <td>Baseplate 24 x 32 with Dots Prints [361]</td>\n",
       "      <td>1</td>\n",
       "    </tr>\n",
       "    <tr>\n",
       "      <th>17</th>\n",
       "      <td>Baseplates</td>\n",
       "      <td>Baseplate 16 x 18</td>\n",
       "      <td>1</td>\n",
       "    </tr>\n",
       "    <tr>\n",
       "      <th>18</th>\n",
       "      <td>Baseplates</td>\n",
       "      <td>Baseplate 16 x 22</td>\n",
       "      <td>1</td>\n",
       "    </tr>\n",
       "    <tr>\n",
       "      <th>19</th>\n",
       "      <td>Baseplates</td>\n",
       "      <td>Baseplate 32 x 32 Road Straight</td>\n",
       "      <td>1</td>\n",
       "    </tr>\n",
       "  </tbody>\n",
       "</table>\n",
       "</div>"
      ],
      "text/plain": [
       "   Part_Category_Name                                          Part_Name  \\\n",
       "0          Baseplates  Baseplate 16 x 30 with Set 080 Yellow House Print   \n",
       "1          Baseplates  Baseplate 16 x 24 with Set 080 Small White Hou...   \n",
       "2          Baseplates     Baseplate 16 x 24 with Set 080 Red House Print   \n",
       "3          Baseplates  Baseplate 16 x 24 with Set 080 Large White Hou...   \n",
       "4          Baseplates                                  Baseplate 24 x 32   \n",
       "5          Baseplates             Baseplate 24 x 32 with Squared Corners   \n",
       "6          Baseplates             Baseplate 24 x 32 with Rounded Corners   \n",
       "7          Baseplates      Baseplate 24 x 32 with Dots Print [363 / 555]   \n",
       "8          Baseplates    Baseplate 24 x 32 with Dots Print [354 / 560-2]   \n",
       "9          Baseplates            Baseplate 24 x 32 with Dots Print [358]   \n",
       "10         Baseplates            Baseplate 24 x 32 with Dots Print [345]   \n",
       "11         Baseplates    Baseplate 24 x 32 with Dots Print [545-2 / 351]   \n",
       "12         Baseplates            Baseplate 24 x 32 with Dots Print [149]   \n",
       "13         Baseplates          Baseplate 24 x 32 with Dots Print [346-2]   \n",
       "14         Baseplates            Baseplate 24 x 32 with Dots Print [353]   \n",
       "15         Baseplates           Baseplate 24 x 32 with Dots Print [1601]   \n",
       "16         Baseplates           Baseplate 24 x 32 with Dots Prints [361]   \n",
       "17         Baseplates                                  Baseplate 16 x 18   \n",
       "18         Baseplates                                  Baseplate 16 x 22   \n",
       "19         Baseplates                    Baseplate 32 x 32 Road Straight   \n",
       "\n",
       "    part_cat_id  \n",
       "0             1  \n",
       "1             1  \n",
       "2             1  \n",
       "3             1  \n",
       "4             1  \n",
       "5             1  \n",
       "6             1  \n",
       "7             1  \n",
       "8             1  \n",
       "9             1  \n",
       "10            1  \n",
       "11            1  \n",
       "12            1  \n",
       "13            1  \n",
       "14            1  \n",
       "15            1  \n",
       "16            1  \n",
       "17            1  \n",
       "18            1  \n",
       "19            1  "
      ]
     },
     "execution_count": 13,
     "metadata": {},
     "output_type": "execute_result"
    }
   ],
   "source": [
    "# creating new dataframe with part_categories and their parts\n",
    "parts_with_categories = pd.merge(left=part_categories, right=parts, left_on='id', right_on='part_cat_id')\n",
    "parts_with_categories = parts_with_categories.rename(columns={'name_x': 'Part_Category_Name', 'name_y':'Part_Name'})\n",
    "parts_with_categories.head(20)"
   ]
  },
  {
   "cell_type": "code",
   "execution_count": 14,
   "metadata": {},
   "outputs": [
    {
     "data": {
      "text/plain": [
       "Minifigs                                        8556\n",
       "Minifig Accessories                             2071\n",
       "Non-LEGO                                        1964\n",
       "Duplo, Quatro and Primo                         1552\n",
       "Tiles Printed                                   1191\n",
       "Other                                           1125\n",
       "Bionicle, Hero Factory and Constraction         1116\n",
       "Bricks Printed                                   744\n",
       "Plants and Animals                               742\n",
       "Power Functions, Mindstorms and Electric         462\n",
       "Flags, Signs, Plastics and Cloth                 428\n",
       "Bricks Sloped                                    410\n",
       "Transportation - Land                            409\n",
       "Windows and Doors                                405\n",
       "Clikits                                          278\n",
       "Bricks Curved                                    275\n",
       "Wheels and Tyres                                 270\n",
       "Windscreens and Fuselage                         268\n",
       "Baseplates                                       250\n",
       "Belville, Scala and Fabuland                     234\n",
       "Bricks Round and Cones                           219\n",
       "Transportation - Sea and Air                     206\n",
       "Panels                                           205\n",
       "Bricks Wedged                                    198\n",
       "Plates Special                                   169\n",
       "Hinges, Arms and Turntables                      162\n",
       "Technic Special                                  158\n",
       "Tubes and Hoses                                  157\n",
       "Plates Round and Dishes                          146\n",
       "Tiles Special                                    136\n",
       "Containers                                       129\n",
       "Bricks Special                                   116\n",
       "Bars, Ladders and Fences                         115\n",
       "Non-Buildable Figures (Duplo, Fabuland, etc)     109\n",
       "Technic Connectors                                93\n",
       "Bricks                                            93\n",
       "String, Bands and Reels                           86\n",
       "Supports, Girders and Cranes                      80\n",
       "Technic Steering, Suspension and Engine           77\n",
       "Technic Gears                                     68\n",
       "Plates                                            62\n",
       "Plates Angled                                     57\n",
       "Technic Panels                                    56\n",
       "Magnets and Holders                               36\n",
       "Rock                                              35\n",
       "Technic Beams                                     32\n",
       "Tiles                                             30\n",
       "Technic Axles                                     28\n",
       "Mechanical                                        28\n",
       "Pneumatics                                        28\n",
       "Technic Bricks                                    26\n",
       "HO Scale                                          23\n",
       "Znap                                              22\n",
       "Technic Beams Special                             22\n",
       "Technic Pins                                      19\n",
       "Technic Bushes                                     9\n",
       "Tools                                              8\n",
       "Name: Part_Category_Name, dtype: int64"
      ]
     },
     "execution_count": 14,
     "metadata": {},
     "output_type": "execute_result"
    }
   ],
   "source": [
    "# grouping categories and counting their respective number of parts\n",
    "parts_with_categories = parts_with_categories['Part_Category_Name'].value_counts()\n",
    "parts_with_categories.sort_values(ascending=False)"
   ]
  },
  {
   "cell_type": "markdown",
   "metadata": {},
   "source": [
    "### Let's visualize the number of parts every part-category contains"
   ]
  },
  {
   "cell_type": "code",
   "execution_count": 15,
   "metadata": {},
   "outputs": [
    {
     "data": {
      "image/png": "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\n",
      "text/plain": [
       "<Figure size 1296x288 with 1 Axes>"
      ]
     },
     "metadata": {
      "needs_background": "light"
     },
     "output_type": "display_data"
    }
   ],
   "source": [
    "matplotlib.rcParams.update({'font.size': 16})\n",
    "\n",
    "fig, axs = plt.subplots(figsize=(18,4))\n",
    "parts_with_categories.plot(kind=\"bar\", color=\"brown\", alpha=0.6, width= 0.8)\n",
    "\n",
    "plt.ylabel('Number of Parts')\n",
    "plt.title('Number of Parts in Each Part Category')\n",
    "plt.xticks(rotation=90)\n",
    "plt.legend()\n",
    "\n",
    "plt.show()"
   ]
  },
  {
   "cell_type": "markdown",
   "metadata": {},
   "source": [
    "**\"Minifigs\"** is the most used category and contains more 8.5K Parts."
   ]
  },
  {
   "cell_type": "markdown",
   "metadata": {},
   "source": [
    "## Investigating Inventories"
   ]
  },
  {
   "cell_type": "markdown",
   "metadata": {},
   "source": [
    "### How many inventory parts are there in the database?"
   ]
  },
  {
   "cell_type": "code",
   "execution_count": 16,
   "metadata": {},
   "outputs": [
    {
     "data": {
      "text/html": [
       "<div>\n",
       "<style scoped>\n",
       "    .dataframe tbody tr th:only-of-type {\n",
       "        vertical-align: middle;\n",
       "    }\n",
       "\n",
       "    .dataframe tbody tr th {\n",
       "        vertical-align: top;\n",
       "    }\n",
       "\n",
       "    .dataframe thead th {\n",
       "        text-align: right;\n",
       "    }\n",
       "</style>\n",
       "<table border=\"1\" class=\"dataframe\">\n",
       "  <thead>\n",
       "    <tr style=\"text-align: right;\">\n",
       "      <th></th>\n",
       "      <th>version</th>\n",
       "      <th>set_num</th>\n",
       "    </tr>\n",
       "    <tr>\n",
       "      <th>id</th>\n",
       "      <th></th>\n",
       "      <th></th>\n",
       "    </tr>\n",
       "  </thead>\n",
       "  <tbody>\n",
       "    <tr>\n",
       "      <th>1</th>\n",
       "      <td>1</td>\n",
       "      <td>7922-1</td>\n",
       "    </tr>\n",
       "    <tr>\n",
       "      <th>3</th>\n",
       "      <td>1</td>\n",
       "      <td>3931-1</td>\n",
       "    </tr>\n",
       "    <tr>\n",
       "      <th>4</th>\n",
       "      <td>1</td>\n",
       "      <td>6942-1</td>\n",
       "    </tr>\n",
       "    <tr>\n",
       "      <th>15</th>\n",
       "      <td>1</td>\n",
       "      <td>5158-1</td>\n",
       "    </tr>\n",
       "    <tr>\n",
       "      <th>16</th>\n",
       "      <td>1</td>\n",
       "      <td>903-1</td>\n",
       "    </tr>\n",
       "    <tr>\n",
       "      <th>17</th>\n",
       "      <td>1</td>\n",
       "      <td>850950-1</td>\n",
       "    </tr>\n",
       "    <tr>\n",
       "      <th>19</th>\n",
       "      <td>1</td>\n",
       "      <td>4444-1</td>\n",
       "    </tr>\n",
       "    <tr>\n",
       "      <th>21</th>\n",
       "      <td>1</td>\n",
       "      <td>3474-1</td>\n",
       "    </tr>\n",
       "    <tr>\n",
       "      <th>22</th>\n",
       "      <td>1</td>\n",
       "      <td>30277-1</td>\n",
       "    </tr>\n",
       "    <tr>\n",
       "      <th>25</th>\n",
       "      <td>1</td>\n",
       "      <td>71012-11</td>\n",
       "    </tr>\n",
       "    <tr>\n",
       "      <th>26</th>\n",
       "      <td>1</td>\n",
       "      <td>6435-1</td>\n",
       "    </tr>\n",
       "    <tr>\n",
       "      <th>27</th>\n",
       "      <td>1</td>\n",
       "      <td>3055-1</td>\n",
       "    </tr>\n",
       "    <tr>\n",
       "      <th>28</th>\n",
       "      <td>1</td>\n",
       "      <td>7899-1</td>\n",
       "    </tr>\n",
       "    <tr>\n",
       "      <th>29</th>\n",
       "      <td>1</td>\n",
       "      <td>1076-3</td>\n",
       "    </tr>\n",
       "    <tr>\n",
       "      <th>30</th>\n",
       "      <td>1</td>\n",
       "      <td>40107-1</td>\n",
       "    </tr>\n",
       "    <tr>\n",
       "      <th>31</th>\n",
       "      <td>1</td>\n",
       "      <td>14-4</td>\n",
       "    </tr>\n",
       "    <tr>\n",
       "      <th>32</th>\n",
       "      <td>1</td>\n",
       "      <td>4024-21</td>\n",
       "    </tr>\n",
       "    <tr>\n",
       "      <th>33</th>\n",
       "      <td>1</td>\n",
       "      <td>6356-1</td>\n",
       "    </tr>\n",
       "    <tr>\n",
       "      <th>34</th>\n",
       "      <td>1</td>\n",
       "      <td>71017-20</td>\n",
       "    </tr>\n",
       "    <tr>\n",
       "      <th>35</th>\n",
       "      <td>1</td>\n",
       "      <td>5004559-1</td>\n",
       "    </tr>\n",
       "  </tbody>\n",
       "</table>\n",
       "</div>"
      ],
      "text/plain": [
       "    version    set_num\n",
       "id                    \n",
       "1         1     7922-1\n",
       "3         1     3931-1\n",
       "4         1     6942-1\n",
       "15        1     5158-1\n",
       "16        1      903-1\n",
       "17        1   850950-1\n",
       "19        1     4444-1\n",
       "21        1     3474-1\n",
       "22        1    30277-1\n",
       "25        1   71012-11\n",
       "26        1     6435-1\n",
       "27        1     3055-1\n",
       "28        1     7899-1\n",
       "29        1     1076-3\n",
       "30        1    40107-1\n",
       "31        1       14-4\n",
       "32        1    4024-21\n",
       "33        1     6356-1\n",
       "34        1   71017-20\n",
       "35        1  5004559-1"
      ]
     },
     "execution_count": 16,
     "metadata": {},
     "output_type": "execute_result"
    }
   ],
   "source": [
    "# checking first twenty rows for inventories csv file\n",
    "inventories.head(20)"
   ]
  },
  {
   "cell_type": "code",
   "execution_count": 17,
   "metadata": {},
   "outputs": [
    {
     "name": "stdout",
     "output_type": "stream",
     "text": [
      "<class 'pandas.core.frame.DataFrame'>\n",
      "Int64Index: 11681 entries, 1 to 18708\n",
      "Data columns (total 2 columns):\n",
      " #   Column   Non-Null Count  Dtype \n",
      "---  ------   --------------  ----- \n",
      " 0   version  11681 non-null  int64 \n",
      " 1   set_num  11681 non-null  object\n",
      "dtypes: int64(1), object(1)\n",
      "memory usage: 273.8+ KB\n"
     ]
    }
   ],
   "source": [
    "# checking the info of the parts dataset\n",
    "inventories.info()"
   ]
  },
  {
   "cell_type": "code",
   "execution_count": 18,
   "metadata": {},
   "outputs": [
    {
     "data": {
      "text/plain": [
       "(11681, 2)"
      ]
     },
     "execution_count": 18,
     "metadata": {},
     "output_type": "execute_result"
    }
   ],
   "source": [
    "# checking the shape of the dataset\n",
    "inventories.shape"
   ]
  },
  {
   "cell_type": "markdown",
   "metadata": {},
   "source": [
    "There are **11681** total inventory parts in our database. Every inventory is associated with its set_num."
   ]
  },
  {
   "cell_type": "markdown",
   "metadata": {},
   "source": [
    "### How many sets each version of inventory has?"
   ]
  },
  {
   "cell_type": "code",
   "execution_count": 19,
   "metadata": {},
   "outputs": [
    {
     "data": {
      "text/plain": [
       "1    11669\n",
       "2        9\n",
       "5        1\n",
       "4        1\n",
       "3        1\n",
       "Name: version, dtype: int64"
      ]
     },
     "execution_count": 19,
     "metadata": {},
     "output_type": "execute_result"
    }
   ],
   "source": [
    "# grouping each version and counting the frquency of sets in each group of inventory\n",
    "inventories['version'].value_counts()"
   ]
  },
  {
   "cell_type": "markdown",
   "metadata": {},
   "source": [
    "We have **5** inventory types, out of which **verison 1** has the most sets that is **11669**."
   ]
  },
  {
   "cell_type": "markdown",
   "metadata": {},
   "source": [
    "### Let's visualize the number of sets every inventory part contains?"
   ]
  },
  {
   "cell_type": "code",
   "execution_count": 20,
   "metadata": {},
   "outputs": [
    {
     "data": {
      "text/plain": [
       "1    11669\n",
       "2        9\n",
       "3        1\n",
       "4        1\n",
       "5        1\n",
       "Name: version, dtype: int64"
      ]
     },
     "execution_count": 20,
     "metadata": {},
     "output_type": "execute_result"
    }
   ],
   "source": [
    "sets_per_inventory_parts = inventories['version'].value_counts()\n",
    "sets_per_inventory_parts.sort_values(ascending=False)"
   ]
  },
  {
   "cell_type": "code",
   "execution_count": 33,
   "metadata": {},
   "outputs": [
    {
     "data": {
      "image/png": "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\n",
      "text/plain": [
       "<Figure size 1152x288 with 1 Axes>"
      ]
     },
     "metadata": {},
     "output_type": "display_data"
    }
   ],
   "source": [
    "fig, axs = plt.subplots(figsize=(16,4))\n",
    "sets_per_inventory_parts.plot(kind=\"bar\", color=\"green\", alpha=0.6, width= 0.5)\n",
    "\n",
    "plt.ylabel('Number of Sets')\n",
    "plt.title('Inventory Version')\n",
    "plt.xticks(rotation=0)\n",
    "plt.grid()\n",
    "\n",
    "plt.show()"
   ]
  },
  {
   "cell_type": "markdown",
   "metadata": {},
   "source": [
    "From the the above graph,**version 1** inventory has **11669** sets. Since **version 2** inventory has just **9** sets there is a slight upwards bar in the graph."
   ]
  },
  {
   "cell_type": "markdown",
   "metadata": {},
   "source": [
    "### Which inventory parts have the most colors availability?"
   ]
  },
  {
   "cell_type": "code",
   "execution_count": 50,
   "metadata": {},
   "outputs": [
    {
     "data": {
      "text/html": [
       "<div>\n",
       "<style scoped>\n",
       "    .dataframe tbody tr th:only-of-type {\n",
       "        vertical-align: middle;\n",
       "    }\n",
       "\n",
       "    .dataframe tbody tr th {\n",
       "        vertical-align: top;\n",
       "    }\n",
       "\n",
       "    .dataframe thead th {\n",
       "        text-align: right;\n",
       "    }\n",
       "</style>\n",
       "<table border=\"1\" class=\"dataframe\">\n",
       "  <thead>\n",
       "    <tr style=\"text-align: right;\">\n",
       "      <th></th>\n",
       "      <th>color_id</th>\n",
       "    </tr>\n",
       "    <tr>\n",
       "      <th>inventory_id</th>\n",
       "      <th></th>\n",
       "    </tr>\n",
       "  </thead>\n",
       "  <tbody>\n",
       "    <tr>\n",
       "      <th>1305</th>\n",
       "      <td>769</td>\n",
       "    </tr>\n",
       "    <tr>\n",
       "      <th>12397</th>\n",
       "      <td>700</td>\n",
       "    </tr>\n",
       "    <tr>\n",
       "      <th>8461</th>\n",
       "      <td>687</td>\n",
       "    </tr>\n",
       "    <tr>\n",
       "      <th>16139</th>\n",
       "      <td>593</td>\n",
       "    </tr>\n",
       "    <tr>\n",
       "      <th>14208</th>\n",
       "      <td>592</td>\n",
       "    </tr>\n",
       "    <tr>\n",
       "      <th>7869</th>\n",
       "      <td>591</td>\n",
       "    </tr>\n",
       "    <tr>\n",
       "      <th>12656</th>\n",
       "      <td>578</td>\n",
       "    </tr>\n",
       "    <tr>\n",
       "      <th>12798</th>\n",
       "      <td>554</td>\n",
       "    </tr>\n",
       "    <tr>\n",
       "      <th>8438</th>\n",
       "      <td>519</td>\n",
       "    </tr>\n",
       "    <tr>\n",
       "      <th>12848</th>\n",
       "      <td>510</td>\n",
       "    </tr>\n",
       "    <tr>\n",
       "      <th>5582</th>\n",
       "      <td>501</td>\n",
       "    </tr>\n",
       "    <tr>\n",
       "      <th>14317</th>\n",
       "      <td>500</td>\n",
       "    </tr>\n",
       "    <tr>\n",
       "      <th>15538</th>\n",
       "      <td>500</td>\n",
       "    </tr>\n",
       "    <tr>\n",
       "      <th>2126</th>\n",
       "      <td>499</td>\n",
       "    </tr>\n",
       "    <tr>\n",
       "      <th>11002</th>\n",
       "      <td>495</td>\n",
       "    </tr>\n",
       "  </tbody>\n",
       "</table>\n",
       "</div>"
      ],
      "text/plain": [
       "              color_id\n",
       "inventory_id          \n",
       "1305               769\n",
       "12397              700\n",
       "8461               687\n",
       "16139              593\n",
       "14208              592\n",
       "7869               591\n",
       "12656              578\n",
       "12798              554\n",
       "8438               519\n",
       "12848              510\n",
       "5582               501\n",
       "14317              500\n",
       "15538              500\n",
       "2126               499\n",
       "11002              495"
      ]
     },
     "execution_count": 50,
     "metadata": {},
     "output_type": "execute_result"
    }
   ],
   "source": [
    "unique_inventory_parts = inventory_parts[['color_id']]\n",
    "unique_inventory_parts = unique_inventory_parts.groupby('inventory_id').count()\n",
    "\n",
    "# taking out the top 15 inventory parts with most colors available\n",
    "inventory_parts_most_colors = unique_inventory_parts.sort_values(by='color_id', ascending=False)\n",
    "inventory_parts_most_colors = inventory_parts_most_colors[0:15]\n",
    "inventory_parts_most_colors"
   ]
  },
  {
   "cell_type": "code",
   "execution_count": 40,
   "metadata": {},
   "outputs": [
    {
     "data": {
      "image/png": "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\n",
      "text/plain": [
       "<Figure size 1296x648 with 1 Axes>"
      ]
     },
     "metadata": {},
     "output_type": "display_data"
    }
   ],
   "source": [
    "matplotlib.rcParams.update({'font.size': 16})\n",
    "\n",
    "fig, axs = plt.subplots(figsize=(18,9))\n",
    "inventory_parts_most_colors['color_id'].plot(kind=\"barh\", color=\"orange\", alpha=0.6, width= 0.8)\n",
    "\n",
    "plt.xlabel('Number of Colors Available')\n",
    "plt.ylabel('Inventory Ids')\n",
    "plt.title('Inventory Parts that has Most Colors Available')\n",
    "plt.xticks(rotation=90)\n",
    "plt.legend()\n",
    "plt.grid()\n",
    "axs.set_xticks(np.arange(0,800,20))\n",
    "\n",
    "plt.show()"
   ]
  },
  {
   "cell_type": "code",
   "execution_count": 48,
   "metadata": {
    "scrolled": false
   },
   "outputs": [
    {
     "data": {
      "text/plain": [
       "Text(0.5, 1.0, 'Numebr of Colors available per Inventory Part')"
      ]
     },
     "execution_count": 48,
     "metadata": {},
     "output_type": "execute_result"
    },
    {
     "data": {
      "image/png": "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\n",
      "text/plain": [
       "<Figure size 1296x648 with 1 Axes>"
      ]
     },
     "metadata": {},
     "output_type": "display_data"
    }
   ],
   "source": [
    "sns.set(style=\"whitegrid\")\n",
    "\n",
    "# initialize the matplotlib figure\n",
    "fig, axs = plt.subplots(figsize=(18,9))\n",
    "\n",
    "# plot the Total Missing Values\n",
    "sns.set_color_codes(\"bright\")\n",
    "sns.barplot(x=inventory_parts_most_colors.index, y=\"color_id\", data=inventory_parts_most_colors, color=\"r\")\n",
    "\n",
    "# customizing Bar Graph\n",
    "plt.xticks(rotation='90')\n",
    "plt.xlabel('Inventory Parts', fontsize=15)\n",
    "plt.ylabel('Number of Colors Available', fontsize=15)\n",
    "plt.title('Numebr of Colors available per Inventory Part', fontsize=20)"
   ]
  },
  {
   "cell_type": "markdown",
   "metadata": {},
   "source": [
    "Inventory_ID **1305** has the most available colors.\n",
    "\n",
    "## Conclusion\n",
    "We have analyzed data and have found different facts about the lego data set. Different colors, parts and their categories, inventory and its parts, most available colors in inventory, transparent and non-transparent colors, number is sets per inventory part.\n"
   ]
  }
 ],
 "metadata": {
  "kernelspec": {
   "display_name": "Python 3",
   "language": "python",
   "name": "python3"
  },
  "language_info": {
   "codemirror_mode": {
    "name": "ipython",
    "version": 3
   },
   "file_extension": ".py",
   "mimetype": "text/x-python",
   "name": "python",
   "nbconvert_exporter": "python",
   "pygments_lexer": "ipython3",
   "version": "3.7.6"
  }
 },
 "nbformat": 4,
 "nbformat_minor": 4
}
